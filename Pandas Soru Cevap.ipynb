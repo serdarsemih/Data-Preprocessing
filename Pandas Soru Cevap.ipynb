{
 "cells": [
  {
   "cell_type": "markdown",
   "metadata": {},
   "source": [
    "# Pandas Serileri"
   ]
  },
  {
   "cell_type": "code",
   "execution_count": 1,
   "metadata": {
    "collapsed": true
   },
   "outputs": [],
   "source": [
    "# 1. Elle yazarak pandas serisi tanımla\n",
    "# 2. Array kullanarak pandas serisi tanımla\n",
    "# 3. Sözlük kullanrak pandas serisi tanımla\n",
    "# 4. Tanımladığın serideki bir indekse karşılık gelen değeri göster"
   ]
  },
  {
   "cell_type": "code",
   "execution_count": 2,
   "metadata": {
    "collapsed": true
   },
   "outputs": [],
   "source": [
    "import pandas as pd"
   ]
  },
  {
   "cell_type": "code",
   "execution_count": 3,
   "metadata": {
    "collapsed": true
   },
   "outputs": [],
   "source": [
    "import numpy as np"
   ]
  },
  {
   "cell_type": "code",
   "execution_count": 4,
   "metadata": {
    "collapsed": true
   },
   "outputs": [],
   "source": [
    "s = pd.Series(data=[1,2,3,4,5],index=[\"A\",\"B\",\"C\",\"D\",\"E\"]) # Cevap 1"
   ]
  },
  {
   "cell_type": "code",
   "execution_count": 5,
   "metadata": {},
   "outputs": [
    {
     "data": {
      "text/plain": [
       "A    1\n",
       "B    2\n",
       "C    3\n",
       "D    4\n",
       "E    5\n",
       "dtype: int64"
      ]
     },
     "execution_count": 5,
     "metadata": {},
     "output_type": "execute_result"
    }
   ],
   "source": [
    "s"
   ]
  },
  {
   "cell_type": "code",
   "execution_count": 6,
   "metadata": {
    "collapsed": true
   },
   "outputs": [],
   "source": [
    "r = np.array([1,2,3,4,5])"
   ]
  },
  {
   "cell_type": "code",
   "execution_count": 7,
   "metadata": {},
   "outputs": [
    {
     "data": {
      "text/plain": [
       "array([1, 2, 3, 4, 5])"
      ]
     },
     "execution_count": 7,
     "metadata": {},
     "output_type": "execute_result"
    }
   ],
   "source": [
    "r"
   ]
  },
  {
   "cell_type": "code",
   "execution_count": 8,
   "metadata": {
    "collapsed": true
   },
   "outputs": [],
   "source": [
    "i = [\"A\",\"B\",\"C\",\"D\",\"E\"]"
   ]
  },
  {
   "cell_type": "code",
   "execution_count": 9,
   "metadata": {},
   "outputs": [
    {
     "data": {
      "text/plain": [
       "['A', 'B', 'C', 'D', 'E']"
      ]
     },
     "execution_count": 9,
     "metadata": {},
     "output_type": "execute_result"
    }
   ],
   "source": [
    "i"
   ]
  },
  {
   "cell_type": "code",
   "execution_count": 10,
   "metadata": {
    "collapsed": true
   },
   "outputs": [],
   "source": [
    "s2 = pd.Series(r, i) # Cevap 2"
   ]
  },
  {
   "cell_type": "code",
   "execution_count": 11,
   "metadata": {},
   "outputs": [
    {
     "data": {
      "text/plain": [
       "A    1\n",
       "B    2\n",
       "C    3\n",
       "D    4\n",
       "E    5\n",
       "dtype: int32"
      ]
     },
     "execution_count": 11,
     "metadata": {},
     "output_type": "execute_result"
    }
   ],
   "source": [
    "s2"
   ]
  },
  {
   "cell_type": "code",
   "execution_count": 16,
   "metadata": {
    "collapsed": true
   },
   "outputs": [],
   "source": [
    "sz = {\n",
    "    \"A\":1,\n",
    "    \"B\":2,\n",
    "    \"C\":3,\n",
    "    \"D\":4,\n",
    "    \"E\":5\n",
    "}"
   ]
  },
  {
   "cell_type": "code",
   "execution_count": 17,
   "metadata": {},
   "outputs": [
    {
     "data": {
      "text/plain": [
       "{'A': 1, 'B': 2, 'C': 3, 'D': 4, 'E': 5}"
      ]
     },
     "execution_count": 17,
     "metadata": {},
     "output_type": "execute_result"
    }
   ],
   "source": [
    "sz"
   ]
  },
  {
   "cell_type": "code",
   "execution_count": 18,
   "metadata": {
    "collapsed": true
   },
   "outputs": [],
   "source": [
    "s3 = pd.Series(sz) #Cevap 3"
   ]
  },
  {
   "cell_type": "code",
   "execution_count": 19,
   "metadata": {},
   "outputs": [
    {
     "data": {
      "text/plain": [
       "A    1\n",
       "B    2\n",
       "C    3\n",
       "D    4\n",
       "E    5\n",
       "dtype: int64"
      ]
     },
     "execution_count": 19,
     "metadata": {},
     "output_type": "execute_result"
    }
   ],
   "source": [
    "s3"
   ]
  },
  {
   "cell_type": "code",
   "execution_count": 20,
   "metadata": {},
   "outputs": [
    {
     "data": {
      "text/plain": [
       "1"
      ]
     },
     "execution_count": 20,
     "metadata": {},
     "output_type": "execute_result"
    }
   ],
   "source": [
    "s3[\"A\"] #Cevap 4"
   ]
  },
  {
   "cell_type": "markdown",
   "metadata": {},
   "source": [
    "# DataFrame Tanımlanması "
   ]
  },
  {
   "cell_type": "code",
   "execution_count": 21,
   "metadata": {
    "collapsed": true
   },
   "outputs": [],
   "source": [
    "from numpy.random import randn"
   ]
  },
  {
   "cell_type": "code",
   "execution_count": 22,
   "metadata": {
    "collapsed": true
   },
   "outputs": [],
   "source": [
    "# 1. 3x3'lük bir array tanımla. Normal dağılımdan sayı çek. DataFrame oluştur\n",
    "# 2. Bir sütun yazdır.\n",
    "# 3. Bir satır yazdır.\n",
    "# 4. İki sütun yazdır.\n",
    "# 5. Yeni sütun ekle. ***\n",
    "# 6. Sütunları toplayarak yeni sütun oluştur.\n",
    "# 7. Bir sütun sil.\n",
    "# 8. Değişikilikleri kaydet.\n",
    "# 9. Bir satırın bir hücresini yazdır.\n",
    "# 10. İki satır iki sütundan oluşan bir alt frame yazdır.\n"
   ]
  },
  {
   "cell_type": "code",
   "execution_count": 25,
   "metadata": {
    "collapsed": true
   },
   "outputs": [],
   "source": [
    "df = pd.DataFrame(np.random.randn(3,3),[\"A\",\"B\",\"C\"],columns=[\"Sütun 1\", \"Sütun 2\", \"Sütun 3\"]) #Cevap 1"
   ]
  },
  {
   "cell_type": "code",
   "execution_count": 26,
   "metadata": {},
   "outputs": [
    {
     "data": {
      "text/html": [
       "<div>\n",
       "<style>\n",
       "    .dataframe thead tr:only-child th {\n",
       "        text-align: right;\n",
       "    }\n",
       "\n",
       "    .dataframe thead th {\n",
       "        text-align: left;\n",
       "    }\n",
       "\n",
       "    .dataframe tbody tr th {\n",
       "        vertical-align: top;\n",
       "    }\n",
       "</style>\n",
       "<table border=\"1\" class=\"dataframe\">\n",
       "  <thead>\n",
       "    <tr style=\"text-align: right;\">\n",
       "      <th></th>\n",
       "      <th>Sütun 1</th>\n",
       "      <th>Sütun 2</th>\n",
       "      <th>Sütun 3</th>\n",
       "    </tr>\n",
       "  </thead>\n",
       "  <tbody>\n",
       "    <tr>\n",
       "      <th>A</th>\n",
       "      <td>3.139965</td>\n",
       "      <td>0.682129</td>\n",
       "      <td>-1.385471</td>\n",
       "    </tr>\n",
       "    <tr>\n",
       "      <th>B</th>\n",
       "      <td>-0.695491</td>\n",
       "      <td>-0.084192</td>\n",
       "      <td>0.419949</td>\n",
       "    </tr>\n",
       "    <tr>\n",
       "      <th>C</th>\n",
       "      <td>0.749831</td>\n",
       "      <td>-1.769799</td>\n",
       "      <td>-0.883740</td>\n",
       "    </tr>\n",
       "  </tbody>\n",
       "</table>\n",
       "</div>"
      ],
      "text/plain": [
       "    Sütun 1   Sütun 2   Sütun 3\n",
       "A  3.139965  0.682129 -1.385471\n",
       "B -0.695491 -0.084192  0.419949\n",
       "C  0.749831 -1.769799 -0.883740"
      ]
     },
     "execution_count": 26,
     "metadata": {},
     "output_type": "execute_result"
    }
   ],
   "source": [
    "df"
   ]
  },
  {
   "cell_type": "code",
   "execution_count": 27,
   "metadata": {},
   "outputs": [
    {
     "data": {
      "text/plain": [
       "A    3.139965\n",
       "B   -0.695491\n",
       "C    0.749831\n",
       "Name: Sütun 1, dtype: float64"
      ]
     },
     "execution_count": 27,
     "metadata": {},
     "output_type": "execute_result"
    }
   ],
   "source": [
    "df[\"Sütun 1\"] #Cevap 2"
   ]
  },
  {
   "cell_type": "code",
   "execution_count": 28,
   "metadata": {},
   "outputs": [
    {
     "data": {
      "text/plain": [
       "Sütun 1   -0.695491\n",
       "Sütun 2   -0.084192\n",
       "Sütun 3    0.419949\n",
       "Name: B, dtype: float64"
      ]
     },
     "execution_count": 28,
     "metadata": {},
     "output_type": "execute_result"
    }
   ],
   "source": [
    "df.loc[\"B\"] #Cevap 3"
   ]
  },
  {
   "cell_type": "code",
   "execution_count": 29,
   "metadata": {},
   "outputs": [
    {
     "data": {
      "text/html": [
       "<div>\n",
       "<style>\n",
       "    .dataframe thead tr:only-child th {\n",
       "        text-align: right;\n",
       "    }\n",
       "\n",
       "    .dataframe thead th {\n",
       "        text-align: left;\n",
       "    }\n",
       "\n",
       "    .dataframe tbody tr th {\n",
       "        vertical-align: top;\n",
       "    }\n",
       "</style>\n",
       "<table border=\"1\" class=\"dataframe\">\n",
       "  <thead>\n",
       "    <tr style=\"text-align: right;\">\n",
       "      <th></th>\n",
       "      <th>Sütun 1</th>\n",
       "      <th>Sütun 2</th>\n",
       "    </tr>\n",
       "  </thead>\n",
       "  <tbody>\n",
       "    <tr>\n",
       "      <th>A</th>\n",
       "      <td>3.139965</td>\n",
       "      <td>0.682129</td>\n",
       "    </tr>\n",
       "    <tr>\n",
       "      <th>B</th>\n",
       "      <td>-0.695491</td>\n",
       "      <td>-0.084192</td>\n",
       "    </tr>\n",
       "    <tr>\n",
       "      <th>C</th>\n",
       "      <td>0.749831</td>\n",
       "      <td>-1.769799</td>\n",
       "    </tr>\n",
       "  </tbody>\n",
       "</table>\n",
       "</div>"
      ],
      "text/plain": [
       "    Sütun 1   Sütun 2\n",
       "A  3.139965  0.682129\n",
       "B -0.695491 -0.084192\n",
       "C  0.749831 -1.769799"
      ]
     },
     "execution_count": 29,
     "metadata": {},
     "output_type": "execute_result"
    }
   ],
   "source": [
    "df[[\"Sütun 1\", \"Sütun 2\"]] #Cevap 4"
   ]
  },
  {
   "cell_type": "code",
   "execution_count": 36,
   "metadata": {
    "collapsed": true
   },
   "outputs": [],
   "source": [
    "df[\"Sütun 4\"] = pd.Series(data=np.random.randn(3), index=[\"A\",\"B\",\"C\"]) #Cevap 5"
   ]
  },
  {
   "cell_type": "code",
   "execution_count": 37,
   "metadata": {},
   "outputs": [
    {
     "data": {
      "text/html": [
       "<div>\n",
       "<style>\n",
       "    .dataframe thead tr:only-child th {\n",
       "        text-align: right;\n",
       "    }\n",
       "\n",
       "    .dataframe thead th {\n",
       "        text-align: left;\n",
       "    }\n",
       "\n",
       "    .dataframe tbody tr th {\n",
       "        vertical-align: top;\n",
       "    }\n",
       "</style>\n",
       "<table border=\"1\" class=\"dataframe\">\n",
       "  <thead>\n",
       "    <tr style=\"text-align: right;\">\n",
       "      <th></th>\n",
       "      <th>Sütun 1</th>\n",
       "      <th>Sütun 2</th>\n",
       "      <th>Sütun 3</th>\n",
       "      <th>Sütun 4</th>\n",
       "    </tr>\n",
       "  </thead>\n",
       "  <tbody>\n",
       "    <tr>\n",
       "      <th>A</th>\n",
       "      <td>3.139965</td>\n",
       "      <td>0.682129</td>\n",
       "      <td>-1.385471</td>\n",
       "      <td>0.374814</td>\n",
       "    </tr>\n",
       "    <tr>\n",
       "      <th>B</th>\n",
       "      <td>-0.695491</td>\n",
       "      <td>-0.084192</td>\n",
       "      <td>0.419949</td>\n",
       "      <td>-1.662586</td>\n",
       "    </tr>\n",
       "    <tr>\n",
       "      <th>C</th>\n",
       "      <td>0.749831</td>\n",
       "      <td>-1.769799</td>\n",
       "      <td>-0.883740</td>\n",
       "      <td>-0.386200</td>\n",
       "    </tr>\n",
       "  </tbody>\n",
       "</table>\n",
       "</div>"
      ],
      "text/plain": [
       "    Sütun 1   Sütun 2   Sütun 3   Sütun 4\n",
       "A  3.139965  0.682129 -1.385471  0.374814\n",
       "B -0.695491 -0.084192  0.419949 -1.662586\n",
       "C  0.749831 -1.769799 -0.883740 -0.386200"
      ]
     },
     "execution_count": 37,
     "metadata": {},
     "output_type": "execute_result"
    }
   ],
   "source": [
    "df"
   ]
  },
  {
   "cell_type": "code",
   "execution_count": 38,
   "metadata": {
    "collapsed": true
   },
   "outputs": [],
   "source": [
    "df[\"Sütun 5\"] = df[\"Sütun 1\"] + df[\"Sütun 2\"] #Cevap 6"
   ]
  },
  {
   "cell_type": "code",
   "execution_count": 39,
   "metadata": {},
   "outputs": [
    {
     "data": {
      "text/html": [
       "<div>\n",
       "<style>\n",
       "    .dataframe thead tr:only-child th {\n",
       "        text-align: right;\n",
       "    }\n",
       "\n",
       "    .dataframe thead th {\n",
       "        text-align: left;\n",
       "    }\n",
       "\n",
       "    .dataframe tbody tr th {\n",
       "        vertical-align: top;\n",
       "    }\n",
       "</style>\n",
       "<table border=\"1\" class=\"dataframe\">\n",
       "  <thead>\n",
       "    <tr style=\"text-align: right;\">\n",
       "      <th></th>\n",
       "      <th>Sütun 1</th>\n",
       "      <th>Sütun 2</th>\n",
       "      <th>Sütun 3</th>\n",
       "      <th>Sütun 4</th>\n",
       "      <th>Sütun 5</th>\n",
       "    </tr>\n",
       "  </thead>\n",
       "  <tbody>\n",
       "    <tr>\n",
       "      <th>A</th>\n",
       "      <td>3.139965</td>\n",
       "      <td>0.682129</td>\n",
       "      <td>-1.385471</td>\n",
       "      <td>0.374814</td>\n",
       "      <td>3.822094</td>\n",
       "    </tr>\n",
       "    <tr>\n",
       "      <th>B</th>\n",
       "      <td>-0.695491</td>\n",
       "      <td>-0.084192</td>\n",
       "      <td>0.419949</td>\n",
       "      <td>-1.662586</td>\n",
       "      <td>-0.779683</td>\n",
       "    </tr>\n",
       "    <tr>\n",
       "      <th>C</th>\n",
       "      <td>0.749831</td>\n",
       "      <td>-1.769799</td>\n",
       "      <td>-0.883740</td>\n",
       "      <td>-0.386200</td>\n",
       "      <td>-1.019969</td>\n",
       "    </tr>\n",
       "  </tbody>\n",
       "</table>\n",
       "</div>"
      ],
      "text/plain": [
       "    Sütun 1   Sütun 2   Sütun 3   Sütun 4   Sütun 5\n",
       "A  3.139965  0.682129 -1.385471  0.374814  3.822094\n",
       "B -0.695491 -0.084192  0.419949 -1.662586 -0.779683\n",
       "C  0.749831 -1.769799 -0.883740 -0.386200 -1.019969"
      ]
     },
     "execution_count": 39,
     "metadata": {},
     "output_type": "execute_result"
    }
   ],
   "source": [
    "df"
   ]
  },
  {
   "cell_type": "code",
   "execution_count": 43,
   "metadata": {},
   "outputs": [
    {
     "data": {
      "text/html": [
       "<div>\n",
       "<style>\n",
       "    .dataframe thead tr:only-child th {\n",
       "        text-align: right;\n",
       "    }\n",
       "\n",
       "    .dataframe thead th {\n",
       "        text-align: left;\n",
       "    }\n",
       "\n",
       "    .dataframe tbody tr th {\n",
       "        vertical-align: top;\n",
       "    }\n",
       "</style>\n",
       "<table border=\"1\" class=\"dataframe\">\n",
       "  <thead>\n",
       "    <tr style=\"text-align: right;\">\n",
       "      <th></th>\n",
       "      <th>Sütun 1</th>\n",
       "      <th>Sütun 3</th>\n",
       "      <th>Sütun 4</th>\n",
       "      <th>Sütun 5</th>\n",
       "    </tr>\n",
       "  </thead>\n",
       "  <tbody>\n",
       "    <tr>\n",
       "      <th>A</th>\n",
       "      <td>3.139965</td>\n",
       "      <td>-1.385471</td>\n",
       "      <td>0.374814</td>\n",
       "      <td>3.822094</td>\n",
       "    </tr>\n",
       "    <tr>\n",
       "      <th>B</th>\n",
       "      <td>-0.695491</td>\n",
       "      <td>0.419949</td>\n",
       "      <td>-1.662586</td>\n",
       "      <td>-0.779683</td>\n",
       "    </tr>\n",
       "    <tr>\n",
       "      <th>C</th>\n",
       "      <td>0.749831</td>\n",
       "      <td>-0.883740</td>\n",
       "      <td>-0.386200</td>\n",
       "      <td>-1.019969</td>\n",
       "    </tr>\n",
       "  </tbody>\n",
       "</table>\n",
       "</div>"
      ],
      "text/plain": [
       "    Sütun 1   Sütun 3   Sütun 4   Sütun 5\n",
       "A  3.139965 -1.385471  0.374814  3.822094\n",
       "B -0.695491  0.419949 -1.662586 -0.779683\n",
       "C  0.749831 -0.883740 -0.386200 -1.019969"
      ]
     },
     "execution_count": 43,
     "metadata": {},
     "output_type": "execute_result"
    }
   ],
   "source": [
    "df.drop(\"Sütun 2\", axis=1) #Cevap 7"
   ]
  },
  {
   "cell_type": "code",
   "execution_count": 44,
   "metadata": {},
   "outputs": [
    {
     "data": {
      "text/html": [
       "<div>\n",
       "<style>\n",
       "    .dataframe thead tr:only-child th {\n",
       "        text-align: right;\n",
       "    }\n",
       "\n",
       "    .dataframe thead th {\n",
       "        text-align: left;\n",
       "    }\n",
       "\n",
       "    .dataframe tbody tr th {\n",
       "        vertical-align: top;\n",
       "    }\n",
       "</style>\n",
       "<table border=\"1\" class=\"dataframe\">\n",
       "  <thead>\n",
       "    <tr style=\"text-align: right;\">\n",
       "      <th></th>\n",
       "      <th>Sütun 1</th>\n",
       "      <th>Sütun 2</th>\n",
       "      <th>Sütun 3</th>\n",
       "      <th>Sütun 4</th>\n",
       "      <th>Sütun 5</th>\n",
       "    </tr>\n",
       "  </thead>\n",
       "  <tbody>\n",
       "    <tr>\n",
       "      <th>A</th>\n",
       "      <td>3.139965</td>\n",
       "      <td>0.682129</td>\n",
       "      <td>-1.385471</td>\n",
       "      <td>0.374814</td>\n",
       "      <td>3.822094</td>\n",
       "    </tr>\n",
       "    <tr>\n",
       "      <th>B</th>\n",
       "      <td>-0.695491</td>\n",
       "      <td>-0.084192</td>\n",
       "      <td>0.419949</td>\n",
       "      <td>-1.662586</td>\n",
       "      <td>-0.779683</td>\n",
       "    </tr>\n",
       "    <tr>\n",
       "      <th>C</th>\n",
       "      <td>0.749831</td>\n",
       "      <td>-1.769799</td>\n",
       "      <td>-0.883740</td>\n",
       "      <td>-0.386200</td>\n",
       "      <td>-1.019969</td>\n",
       "    </tr>\n",
       "  </tbody>\n",
       "</table>\n",
       "</div>"
      ],
      "text/plain": [
       "    Sütun 1   Sütun 2   Sütun 3   Sütun 4   Sütun 5\n",
       "A  3.139965  0.682129 -1.385471  0.374814  3.822094\n",
       "B -0.695491 -0.084192  0.419949 -1.662586 -0.779683\n",
       "C  0.749831 -1.769799 -0.883740 -0.386200 -1.019969"
      ]
     },
     "execution_count": 44,
     "metadata": {},
     "output_type": "execute_result"
    }
   ],
   "source": [
    "df"
   ]
  },
  {
   "cell_type": "code",
   "execution_count": 45,
   "metadata": {
    "collapsed": true
   },
   "outputs": [],
   "source": [
    "df.drop(\"Sütun 3\", axis=1, inplace=True) #Cevap 8"
   ]
  },
  {
   "cell_type": "code",
   "execution_count": 46,
   "metadata": {},
   "outputs": [
    {
     "data": {
      "text/html": [
       "<div>\n",
       "<style>\n",
       "    .dataframe thead tr:only-child th {\n",
       "        text-align: right;\n",
       "    }\n",
       "\n",
       "    .dataframe thead th {\n",
       "        text-align: left;\n",
       "    }\n",
       "\n",
       "    .dataframe tbody tr th {\n",
       "        vertical-align: top;\n",
       "    }\n",
       "</style>\n",
       "<table border=\"1\" class=\"dataframe\">\n",
       "  <thead>\n",
       "    <tr style=\"text-align: right;\">\n",
       "      <th></th>\n",
       "      <th>Sütun 1</th>\n",
       "      <th>Sütun 2</th>\n",
       "      <th>Sütun 4</th>\n",
       "      <th>Sütun 5</th>\n",
       "    </tr>\n",
       "  </thead>\n",
       "  <tbody>\n",
       "    <tr>\n",
       "      <th>A</th>\n",
       "      <td>3.139965</td>\n",
       "      <td>0.682129</td>\n",
       "      <td>0.374814</td>\n",
       "      <td>3.822094</td>\n",
       "    </tr>\n",
       "    <tr>\n",
       "      <th>B</th>\n",
       "      <td>-0.695491</td>\n",
       "      <td>-0.084192</td>\n",
       "      <td>-1.662586</td>\n",
       "      <td>-0.779683</td>\n",
       "    </tr>\n",
       "    <tr>\n",
       "      <th>C</th>\n",
       "      <td>0.749831</td>\n",
       "      <td>-1.769799</td>\n",
       "      <td>-0.386200</td>\n",
       "      <td>-1.019969</td>\n",
       "    </tr>\n",
       "  </tbody>\n",
       "</table>\n",
       "</div>"
      ],
      "text/plain": [
       "    Sütun 1   Sütun 2   Sütun 4   Sütun 5\n",
       "A  3.139965  0.682129  0.374814  3.822094\n",
       "B -0.695491 -0.084192 -1.662586 -0.779683\n",
       "C  0.749831 -1.769799 -0.386200 -1.019969"
      ]
     },
     "execution_count": 46,
     "metadata": {},
     "output_type": "execute_result"
    }
   ],
   "source": [
    "df"
   ]
  },
  {
   "cell_type": "code",
   "execution_count": 51,
   "metadata": {},
   "outputs": [
    {
     "data": {
      "text/plain": [
       "-1.7697994908385504"
      ]
     },
     "execution_count": 51,
     "metadata": {},
     "output_type": "execute_result"
    }
   ],
   "source": [
    "df.loc[\"C\",\"Sütun 2\"] #Cevap 9"
   ]
  },
  {
   "cell_type": "code",
   "execution_count": 50,
   "metadata": {},
   "outputs": [
    {
     "data": {
      "text/html": [
       "<div>\n",
       "<style>\n",
       "    .dataframe thead tr:only-child th {\n",
       "        text-align: right;\n",
       "    }\n",
       "\n",
       "    .dataframe thead th {\n",
       "        text-align: left;\n",
       "    }\n",
       "\n",
       "    .dataframe tbody tr th {\n",
       "        vertical-align: top;\n",
       "    }\n",
       "</style>\n",
       "<table border=\"1\" class=\"dataframe\">\n",
       "  <thead>\n",
       "    <tr style=\"text-align: right;\">\n",
       "      <th></th>\n",
       "      <th>Sütun 2</th>\n",
       "      <th>Sütun 4</th>\n",
       "    </tr>\n",
       "  </thead>\n",
       "  <tbody>\n",
       "    <tr>\n",
       "      <th>B</th>\n",
       "      <td>-0.084192</td>\n",
       "      <td>-1.662586</td>\n",
       "    </tr>\n",
       "    <tr>\n",
       "      <th>C</th>\n",
       "      <td>-1.769799</td>\n",
       "      <td>-0.386200</td>\n",
       "    </tr>\n",
       "  </tbody>\n",
       "</table>\n",
       "</div>"
      ],
      "text/plain": [
       "    Sütun 2   Sütun 4\n",
       "B -0.084192 -1.662586\n",
       "C -1.769799 -0.386200"
      ]
     },
     "execution_count": 50,
     "metadata": {},
     "output_type": "execute_result"
    }
   ],
   "source": [
    "df.loc[[\"B\",\"C\"],[\"Sütun 2\",\"Sütun 4\"]] #Cevap 10"
   ]
  },
  {
   "cell_type": "markdown",
   "metadata": {},
   "source": [
    "# DataFrame Filtreleme"
   ]
  },
  {
   "cell_type": "code",
   "execution_count": 52,
   "metadata": {
    "collapsed": true
   },
   "outputs": [],
   "source": [
    "# 1. Normal dağılımdan sayı çek. Bir DataFrame oluştur. -1'den büyük olanları boolean yazdır\n",
    "# 2. DataFrame'de 0'dan küçük olanları NaN olarak yazdır\n",
    "# 3. ve veya bağlaçları kullan\n",
    "# 4. DataFrame kısa yoldan sütun ekle\n",
    "# 5. String değişkenlerden oluşan yeni bir sütun oluştur\n",
    "# 6. Bu sütunu indeks sütunu olarak belile\n",
    "# 7. Değişikliği geçerli yap"
   ]
  },
  {
   "cell_type": "code",
   "execution_count": 53,
   "metadata": {
    "collapsed": true
   },
   "outputs": [],
   "source": [
    "vs = pd.DataFrame(data=np.random.randn(3,3), index=[\"A\",\"B\",\"C\"],columns=[\"Sütun 1\",\"Sütun 2\",\"Sütun 3\"])"
   ]
  },
  {
   "cell_type": "code",
   "execution_count": 54,
   "metadata": {},
   "outputs": [
    {
     "data": {
      "text/html": [
       "<div>\n",
       "<style>\n",
       "    .dataframe thead tr:only-child th {\n",
       "        text-align: right;\n",
       "    }\n",
       "\n",
       "    .dataframe thead th {\n",
       "        text-align: left;\n",
       "    }\n",
       "\n",
       "    .dataframe tbody tr th {\n",
       "        vertical-align: top;\n",
       "    }\n",
       "</style>\n",
       "<table border=\"1\" class=\"dataframe\">\n",
       "  <thead>\n",
       "    <tr style=\"text-align: right;\">\n",
       "      <th></th>\n",
       "      <th>Sütun 1</th>\n",
       "      <th>Sütun 2</th>\n",
       "      <th>Sütun 3</th>\n",
       "    </tr>\n",
       "  </thead>\n",
       "  <tbody>\n",
       "    <tr>\n",
       "      <th>A</th>\n",
       "      <td>-0.354747</td>\n",
       "      <td>1.101374</td>\n",
       "      <td>1.596717</td>\n",
       "    </tr>\n",
       "    <tr>\n",
       "      <th>B</th>\n",
       "      <td>0.276565</td>\n",
       "      <td>0.833434</td>\n",
       "      <td>0.239983</td>\n",
       "    </tr>\n",
       "    <tr>\n",
       "      <th>C</th>\n",
       "      <td>-0.980486</td>\n",
       "      <td>-0.007329</td>\n",
       "      <td>0.891291</td>\n",
       "    </tr>\n",
       "  </tbody>\n",
       "</table>\n",
       "</div>"
      ],
      "text/plain": [
       "    Sütun 1   Sütun 2   Sütun 3\n",
       "A -0.354747  1.101374  1.596717\n",
       "B  0.276565  0.833434  0.239983\n",
       "C -0.980486 -0.007329  0.891291"
      ]
     },
     "execution_count": 54,
     "metadata": {},
     "output_type": "execute_result"
    }
   ],
   "source": [
    "vs"
   ]
  },
  {
   "cell_type": "code",
   "execution_count": 57,
   "metadata": {},
   "outputs": [
    {
     "data": {
      "text/html": [
       "<div>\n",
       "<style>\n",
       "    .dataframe thead tr:only-child th {\n",
       "        text-align: right;\n",
       "    }\n",
       "\n",
       "    .dataframe thead th {\n",
       "        text-align: left;\n",
       "    }\n",
       "\n",
       "    .dataframe tbody tr th {\n",
       "        vertical-align: top;\n",
       "    }\n",
       "</style>\n",
       "<table border=\"1\" class=\"dataframe\">\n",
       "  <thead>\n",
       "    <tr style=\"text-align: right;\">\n",
       "      <th></th>\n",
       "      <th>Sütun 1</th>\n",
       "      <th>Sütun 2</th>\n",
       "      <th>Sütun 3</th>\n",
       "    </tr>\n",
       "  </thead>\n",
       "  <tbody>\n",
       "    <tr>\n",
       "      <th>A</th>\n",
       "      <td>False</td>\n",
       "      <td>True</td>\n",
       "      <td>True</td>\n",
       "    </tr>\n",
       "    <tr>\n",
       "      <th>B</th>\n",
       "      <td>True</td>\n",
       "      <td>True</td>\n",
       "      <td>True</td>\n",
       "    </tr>\n",
       "    <tr>\n",
       "      <th>C</th>\n",
       "      <td>False</td>\n",
       "      <td>True</td>\n",
       "      <td>True</td>\n",
       "    </tr>\n",
       "  </tbody>\n",
       "</table>\n",
       "</div>"
      ],
      "text/plain": [
       "   Sütun 1  Sütun 2  Sütun 3\n",
       "A    False     True     True\n",
       "B     True     True     True\n",
       "C    False     True     True"
      ]
     },
     "execution_count": 57,
     "metadata": {},
     "output_type": "execute_result"
    }
   ],
   "source": [
    "vs>-0.1 #Cevap 1"
   ]
  },
  {
   "cell_type": "code",
   "execution_count": 58,
   "metadata": {},
   "outputs": [
    {
     "data": {
      "text/html": [
       "<div>\n",
       "<style>\n",
       "    .dataframe thead tr:only-child th {\n",
       "        text-align: right;\n",
       "    }\n",
       "\n",
       "    .dataframe thead th {\n",
       "        text-align: left;\n",
       "    }\n",
       "\n",
       "    .dataframe tbody tr th {\n",
       "        vertical-align: top;\n",
       "    }\n",
       "</style>\n",
       "<table border=\"1\" class=\"dataframe\">\n",
       "  <thead>\n",
       "    <tr style=\"text-align: right;\">\n",
       "      <th></th>\n",
       "      <th>Sütun 1</th>\n",
       "      <th>Sütun 2</th>\n",
       "      <th>Sütun 3</th>\n",
       "    </tr>\n",
       "  </thead>\n",
       "  <tbody>\n",
       "    <tr>\n",
       "      <th>A</th>\n",
       "      <td>NaN</td>\n",
       "      <td>1.101374</td>\n",
       "      <td>1.596717</td>\n",
       "    </tr>\n",
       "    <tr>\n",
       "      <th>B</th>\n",
       "      <td>0.276565</td>\n",
       "      <td>0.833434</td>\n",
       "      <td>0.239983</td>\n",
       "    </tr>\n",
       "    <tr>\n",
       "      <th>C</th>\n",
       "      <td>NaN</td>\n",
       "      <td>NaN</td>\n",
       "      <td>0.891291</td>\n",
       "    </tr>\n",
       "  </tbody>\n",
       "</table>\n",
       "</div>"
      ],
      "text/plain": [
       "    Sütun 1   Sütun 2   Sütun 3\n",
       "A       NaN  1.101374  1.596717\n",
       "B  0.276565  0.833434  0.239983\n",
       "C       NaN       NaN  0.891291"
      ]
     },
     "execution_count": 58,
     "metadata": {},
     "output_type": "execute_result"
    }
   ],
   "source": [
    "vs[vs>0] #Cevap 2"
   ]
  },
  {
   "cell_type": "code",
   "execution_count": 62,
   "metadata": {},
   "outputs": [
    {
     "data": {
      "text/plain": [
       "A    False\n",
       "B     True\n",
       "C    False\n",
       "Name: Sütun 1, dtype: bool"
      ]
     },
     "execution_count": 62,
     "metadata": {},
     "output_type": "execute_result"
    }
   ],
   "source": [
    "vs[\"Sütun 1\"]>0"
   ]
  },
  {
   "cell_type": "code",
   "execution_count": 63,
   "metadata": {},
   "outputs": [
    {
     "data": {
      "text/html": [
       "<div>\n",
       "<style>\n",
       "    .dataframe thead tr:only-child th {\n",
       "        text-align: right;\n",
       "    }\n",
       "\n",
       "    .dataframe thead th {\n",
       "        text-align: left;\n",
       "    }\n",
       "\n",
       "    .dataframe tbody tr th {\n",
       "        vertical-align: top;\n",
       "    }\n",
       "</style>\n",
       "<table border=\"1\" class=\"dataframe\">\n",
       "  <thead>\n",
       "    <tr style=\"text-align: right;\">\n",
       "      <th></th>\n",
       "      <th>Sütun 1</th>\n",
       "      <th>Sütun 2</th>\n",
       "      <th>Sütun 3</th>\n",
       "    </tr>\n",
       "  </thead>\n",
       "  <tbody>\n",
       "    <tr>\n",
       "      <th>B</th>\n",
       "      <td>0.276565</td>\n",
       "      <td>0.833434</td>\n",
       "      <td>0.239983</td>\n",
       "    </tr>\n",
       "  </tbody>\n",
       "</table>\n",
       "</div>"
      ],
      "text/plain": [
       "    Sütun 1   Sütun 2   Sütun 3\n",
       "B  0.276565  0.833434  0.239983"
      ]
     },
     "execution_count": 63,
     "metadata": {},
     "output_type": "execute_result"
    }
   ],
   "source": [
    "vs[vs[\"Sütun 1\"]>0]"
   ]
  },
  {
   "cell_type": "code",
   "execution_count": 64,
   "metadata": {},
   "outputs": [
    {
     "data": {
      "text/html": [
       "<div>\n",
       "<style>\n",
       "    .dataframe thead tr:only-child th {\n",
       "        text-align: right;\n",
       "    }\n",
       "\n",
       "    .dataframe thead th {\n",
       "        text-align: left;\n",
       "    }\n",
       "\n",
       "    .dataframe tbody tr th {\n",
       "        vertical-align: top;\n",
       "    }\n",
       "</style>\n",
       "<table border=\"1\" class=\"dataframe\">\n",
       "  <thead>\n",
       "    <tr style=\"text-align: right;\">\n",
       "      <th></th>\n",
       "      <th>Sütun 1</th>\n",
       "      <th>Sütun 2</th>\n",
       "      <th>Sütun 3</th>\n",
       "    </tr>\n",
       "  </thead>\n",
       "  <tbody>\n",
       "    <tr>\n",
       "      <th>A</th>\n",
       "      <td>-0.354747</td>\n",
       "      <td>1.101374</td>\n",
       "      <td>1.596717</td>\n",
       "    </tr>\n",
       "  </tbody>\n",
       "</table>\n",
       "</div>"
      ],
      "text/plain": [
       "    Sütun 1   Sütun 2   Sütun 3\n",
       "A -0.354747  1.101374  1.596717"
      ]
     },
     "execution_count": 64,
     "metadata": {},
     "output_type": "execute_result"
    }
   ],
   "source": [
    "vs[vs[\"Sütun 3\"]>1]"
   ]
  },
  {
   "cell_type": "code",
   "execution_count": 66,
   "metadata": {},
   "outputs": [
    {
     "data": {
      "text/html": [
       "<div>\n",
       "<style>\n",
       "    .dataframe thead tr:only-child th {\n",
       "        text-align: right;\n",
       "    }\n",
       "\n",
       "    .dataframe thead th {\n",
       "        text-align: left;\n",
       "    }\n",
       "\n",
       "    .dataframe tbody tr th {\n",
       "        vertical-align: top;\n",
       "    }\n",
       "</style>\n",
       "<table border=\"1\" class=\"dataframe\">\n",
       "  <thead>\n",
       "    <tr style=\"text-align: right;\">\n",
       "      <th></th>\n",
       "      <th>Sütun 1</th>\n",
       "      <th>Sütun 2</th>\n",
       "      <th>Sütun 3</th>\n",
       "    </tr>\n",
       "  </thead>\n",
       "  <tbody>\n",
       "    <tr>\n",
       "      <th>A</th>\n",
       "      <td>-0.354747</td>\n",
       "      <td>1.101374</td>\n",
       "      <td>1.596717</td>\n",
       "    </tr>\n",
       "    <tr>\n",
       "      <th>B</th>\n",
       "      <td>0.276565</td>\n",
       "      <td>0.833434</td>\n",
       "      <td>0.239983</td>\n",
       "    </tr>\n",
       "  </tbody>\n",
       "</table>\n",
       "</div>"
      ],
      "text/plain": [
       "    Sütun 1   Sütun 2   Sütun 3\n",
       "A -0.354747  1.101374  1.596717\n",
       "B  0.276565  0.833434  0.239983"
      ]
     },
     "execution_count": 66,
     "metadata": {},
     "output_type": "execute_result"
    }
   ],
   "source": [
    "vs[(vs[\"Sütun 1\"]>0) | (vs[\"Sütun 3\"]>1)] #Cevap 3"
   ]
  },
  {
   "cell_type": "code",
   "execution_count": 67,
   "metadata": {},
   "outputs": [
    {
     "data": {
      "text/html": [
       "<div>\n",
       "<style>\n",
       "    .dataframe thead tr:only-child th {\n",
       "        text-align: right;\n",
       "    }\n",
       "\n",
       "    .dataframe thead th {\n",
       "        text-align: left;\n",
       "    }\n",
       "\n",
       "    .dataframe tbody tr th {\n",
       "        vertical-align: top;\n",
       "    }\n",
       "</style>\n",
       "<table border=\"1\" class=\"dataframe\">\n",
       "  <thead>\n",
       "    <tr style=\"text-align: right;\">\n",
       "      <th></th>\n",
       "      <th>Sütun 1</th>\n",
       "      <th>Sütun 2</th>\n",
       "      <th>Sütun 4</th>\n",
       "      <th>Sütun 5</th>\n",
       "    </tr>\n",
       "  </thead>\n",
       "  <tbody>\n",
       "    <tr>\n",
       "      <th>A</th>\n",
       "      <td>3.139965</td>\n",
       "      <td>0.682129</td>\n",
       "      <td>0.374814</td>\n",
       "      <td>3.822094</td>\n",
       "    </tr>\n",
       "    <tr>\n",
       "      <th>B</th>\n",
       "      <td>-0.695491</td>\n",
       "      <td>-0.084192</td>\n",
       "      <td>-1.662586</td>\n",
       "      <td>-0.779683</td>\n",
       "    </tr>\n",
       "    <tr>\n",
       "      <th>C</th>\n",
       "      <td>0.749831</td>\n",
       "      <td>-1.769799</td>\n",
       "      <td>-0.386200</td>\n",
       "      <td>-1.019969</td>\n",
       "    </tr>\n",
       "  </tbody>\n",
       "</table>\n",
       "</div>"
      ],
      "text/plain": [
       "    Sütun 1   Sütun 2   Sütun 4   Sütun 5\n",
       "A  3.139965  0.682129  0.374814  3.822094\n",
       "B -0.695491 -0.084192 -1.662586 -0.779683\n",
       "C  0.749831 -1.769799 -0.386200 -1.019969"
      ]
     },
     "execution_count": 67,
     "metadata": {},
     "output_type": "execute_result"
    }
   ],
   "source": [
    "df"
   ]
  },
  {
   "cell_type": "code",
   "execution_count": 68,
   "metadata": {
    "collapsed": true
   },
   "outputs": [],
   "source": [
    "df[\"Sütun 6\"] = randn(3) #Cevap 4"
   ]
  },
  {
   "cell_type": "code",
   "execution_count": 69,
   "metadata": {},
   "outputs": [
    {
     "data": {
      "text/html": [
       "<div>\n",
       "<style>\n",
       "    .dataframe thead tr:only-child th {\n",
       "        text-align: right;\n",
       "    }\n",
       "\n",
       "    .dataframe thead th {\n",
       "        text-align: left;\n",
       "    }\n",
       "\n",
       "    .dataframe tbody tr th {\n",
       "        vertical-align: top;\n",
       "    }\n",
       "</style>\n",
       "<table border=\"1\" class=\"dataframe\">\n",
       "  <thead>\n",
       "    <tr style=\"text-align: right;\">\n",
       "      <th></th>\n",
       "      <th>Sütun 1</th>\n",
       "      <th>Sütun 2</th>\n",
       "      <th>Sütun 4</th>\n",
       "      <th>Sütun 5</th>\n",
       "      <th>Sütun 6</th>\n",
       "    </tr>\n",
       "  </thead>\n",
       "  <tbody>\n",
       "    <tr>\n",
       "      <th>A</th>\n",
       "      <td>3.139965</td>\n",
       "      <td>0.682129</td>\n",
       "      <td>0.374814</td>\n",
       "      <td>3.822094</td>\n",
       "      <td>-0.392961</td>\n",
       "    </tr>\n",
       "    <tr>\n",
       "      <th>B</th>\n",
       "      <td>-0.695491</td>\n",
       "      <td>-0.084192</td>\n",
       "      <td>-1.662586</td>\n",
       "      <td>-0.779683</td>\n",
       "      <td>-0.936589</td>\n",
       "    </tr>\n",
       "    <tr>\n",
       "      <th>C</th>\n",
       "      <td>0.749831</td>\n",
       "      <td>-1.769799</td>\n",
       "      <td>-0.386200</td>\n",
       "      <td>-1.019969</td>\n",
       "      <td>-1.886193</td>\n",
       "    </tr>\n",
       "  </tbody>\n",
       "</table>\n",
       "</div>"
      ],
      "text/plain": [
       "    Sütun 1   Sütun 2   Sütun 4   Sütun 5   Sütun 6\n",
       "A  3.139965  0.682129  0.374814  3.822094 -0.392961\n",
       "B -0.695491 -0.084192 -1.662586 -0.779683 -0.936589\n",
       "C  0.749831 -1.769799 -0.386200 -1.019969 -1.886193"
      ]
     },
     "execution_count": 69,
     "metadata": {},
     "output_type": "execute_result"
    }
   ],
   "source": [
    "df"
   ]
  },
  {
   "cell_type": "code",
   "execution_count": 70,
   "metadata": {
    "collapsed": true
   },
   "outputs": [],
   "source": [
    "df[\"Sütun 7\"] = [\"Etiket 1\", \"Etiket 2\", \"Etiket 3\"] #Cevap 5"
   ]
  },
  {
   "cell_type": "code",
   "execution_count": 71,
   "metadata": {},
   "outputs": [
    {
     "data": {
      "text/html": [
       "<div>\n",
       "<style>\n",
       "    .dataframe thead tr:only-child th {\n",
       "        text-align: right;\n",
       "    }\n",
       "\n",
       "    .dataframe thead th {\n",
       "        text-align: left;\n",
       "    }\n",
       "\n",
       "    .dataframe tbody tr th {\n",
       "        vertical-align: top;\n",
       "    }\n",
       "</style>\n",
       "<table border=\"1\" class=\"dataframe\">\n",
       "  <thead>\n",
       "    <tr style=\"text-align: right;\">\n",
       "      <th></th>\n",
       "      <th>Sütun 1</th>\n",
       "      <th>Sütun 2</th>\n",
       "      <th>Sütun 4</th>\n",
       "      <th>Sütun 5</th>\n",
       "      <th>Sütun 6</th>\n",
       "      <th>Sütun 7</th>\n",
       "    </tr>\n",
       "  </thead>\n",
       "  <tbody>\n",
       "    <tr>\n",
       "      <th>A</th>\n",
       "      <td>3.139965</td>\n",
       "      <td>0.682129</td>\n",
       "      <td>0.374814</td>\n",
       "      <td>3.822094</td>\n",
       "      <td>-0.392961</td>\n",
       "      <td>Etiket 1</td>\n",
       "    </tr>\n",
       "    <tr>\n",
       "      <th>B</th>\n",
       "      <td>-0.695491</td>\n",
       "      <td>-0.084192</td>\n",
       "      <td>-1.662586</td>\n",
       "      <td>-0.779683</td>\n",
       "      <td>-0.936589</td>\n",
       "      <td>Etiket 2</td>\n",
       "    </tr>\n",
       "    <tr>\n",
       "      <th>C</th>\n",
       "      <td>0.749831</td>\n",
       "      <td>-1.769799</td>\n",
       "      <td>-0.386200</td>\n",
       "      <td>-1.019969</td>\n",
       "      <td>-1.886193</td>\n",
       "      <td>Etiket 3</td>\n",
       "    </tr>\n",
       "  </tbody>\n",
       "</table>\n",
       "</div>"
      ],
      "text/plain": [
       "    Sütun 1   Sütun 2   Sütun 4   Sütun 5   Sütun 6   Sütun 7\n",
       "A  3.139965  0.682129  0.374814  3.822094 -0.392961  Etiket 1\n",
       "B -0.695491 -0.084192 -1.662586 -0.779683 -0.936589  Etiket 2\n",
       "C  0.749831 -1.769799 -0.386200 -1.019969 -1.886193  Etiket 3"
      ]
     },
     "execution_count": 71,
     "metadata": {},
     "output_type": "execute_result"
    }
   ],
   "source": [
    "df"
   ]
  },
  {
   "cell_type": "code",
   "execution_count": 72,
   "metadata": {},
   "outputs": [
    {
     "data": {
      "text/html": [
       "<div>\n",
       "<style>\n",
       "    .dataframe thead tr:only-child th {\n",
       "        text-align: right;\n",
       "    }\n",
       "\n",
       "    .dataframe thead th {\n",
       "        text-align: left;\n",
       "    }\n",
       "\n",
       "    .dataframe tbody tr th {\n",
       "        vertical-align: top;\n",
       "    }\n",
       "</style>\n",
       "<table border=\"1\" class=\"dataframe\">\n",
       "  <thead>\n",
       "    <tr style=\"text-align: right;\">\n",
       "      <th></th>\n",
       "      <th>Sütun 1</th>\n",
       "      <th>Sütun 2</th>\n",
       "      <th>Sütun 4</th>\n",
       "      <th>Sütun 5</th>\n",
       "      <th>Sütun 6</th>\n",
       "    </tr>\n",
       "    <tr>\n",
       "      <th>Sütun 7</th>\n",
       "      <th></th>\n",
       "      <th></th>\n",
       "      <th></th>\n",
       "      <th></th>\n",
       "      <th></th>\n",
       "    </tr>\n",
       "  </thead>\n",
       "  <tbody>\n",
       "    <tr>\n",
       "      <th>Etiket 1</th>\n",
       "      <td>3.139965</td>\n",
       "      <td>0.682129</td>\n",
       "      <td>0.374814</td>\n",
       "      <td>3.822094</td>\n",
       "      <td>-0.392961</td>\n",
       "    </tr>\n",
       "    <tr>\n",
       "      <th>Etiket 2</th>\n",
       "      <td>-0.695491</td>\n",
       "      <td>-0.084192</td>\n",
       "      <td>-1.662586</td>\n",
       "      <td>-0.779683</td>\n",
       "      <td>-0.936589</td>\n",
       "    </tr>\n",
       "    <tr>\n",
       "      <th>Etiket 3</th>\n",
       "      <td>0.749831</td>\n",
       "      <td>-1.769799</td>\n",
       "      <td>-0.386200</td>\n",
       "      <td>-1.019969</td>\n",
       "      <td>-1.886193</td>\n",
       "    </tr>\n",
       "  </tbody>\n",
       "</table>\n",
       "</div>"
      ],
      "text/plain": [
       "           Sütun 1   Sütun 2   Sütun 4   Sütun 5   Sütun 6\n",
       "Sütun 7                                                   \n",
       "Etiket 1  3.139965  0.682129  0.374814  3.822094 -0.392961\n",
       "Etiket 2 -0.695491 -0.084192 -1.662586 -0.779683 -0.936589\n",
       "Etiket 3  0.749831 -1.769799 -0.386200 -1.019969 -1.886193"
      ]
     },
     "execution_count": 72,
     "metadata": {},
     "output_type": "execute_result"
    }
   ],
   "source": [
    "df.set_index(\"Sütun 7\") #Cevap 6"
   ]
  },
  {
   "cell_type": "code",
   "execution_count": 73,
   "metadata": {},
   "outputs": [
    {
     "data": {
      "text/html": [
       "<div>\n",
       "<style>\n",
       "    .dataframe thead tr:only-child th {\n",
       "        text-align: right;\n",
       "    }\n",
       "\n",
       "    .dataframe thead th {\n",
       "        text-align: left;\n",
       "    }\n",
       "\n",
       "    .dataframe tbody tr th {\n",
       "        vertical-align: top;\n",
       "    }\n",
       "</style>\n",
       "<table border=\"1\" class=\"dataframe\">\n",
       "  <thead>\n",
       "    <tr style=\"text-align: right;\">\n",
       "      <th></th>\n",
       "      <th>Sütun 1</th>\n",
       "      <th>Sütun 2</th>\n",
       "      <th>Sütun 4</th>\n",
       "      <th>Sütun 5</th>\n",
       "      <th>Sütun 6</th>\n",
       "      <th>Sütun 7</th>\n",
       "    </tr>\n",
       "  </thead>\n",
       "  <tbody>\n",
       "    <tr>\n",
       "      <th>A</th>\n",
       "      <td>3.139965</td>\n",
       "      <td>0.682129</td>\n",
       "      <td>0.374814</td>\n",
       "      <td>3.822094</td>\n",
       "      <td>-0.392961</td>\n",
       "      <td>Etiket 1</td>\n",
       "    </tr>\n",
       "    <tr>\n",
       "      <th>B</th>\n",
       "      <td>-0.695491</td>\n",
       "      <td>-0.084192</td>\n",
       "      <td>-1.662586</td>\n",
       "      <td>-0.779683</td>\n",
       "      <td>-0.936589</td>\n",
       "      <td>Etiket 2</td>\n",
       "    </tr>\n",
       "    <tr>\n",
       "      <th>C</th>\n",
       "      <td>0.749831</td>\n",
       "      <td>-1.769799</td>\n",
       "      <td>-0.386200</td>\n",
       "      <td>-1.019969</td>\n",
       "      <td>-1.886193</td>\n",
       "      <td>Etiket 3</td>\n",
       "    </tr>\n",
       "  </tbody>\n",
       "</table>\n",
       "</div>"
      ],
      "text/plain": [
       "    Sütun 1   Sütun 2   Sütun 4   Sütun 5   Sütun 6   Sütun 7\n",
       "A  3.139965  0.682129  0.374814  3.822094 -0.392961  Etiket 1\n",
       "B -0.695491 -0.084192 -1.662586 -0.779683 -0.936589  Etiket 2\n",
       "C  0.749831 -1.769799 -0.386200 -1.019969 -1.886193  Etiket 3"
      ]
     },
     "execution_count": 73,
     "metadata": {},
     "output_type": "execute_result"
    }
   ],
   "source": [
    "df"
   ]
  },
  {
   "cell_type": "code",
   "execution_count": 74,
   "metadata": {
    "collapsed": true
   },
   "outputs": [],
   "source": [
    "df.set_index(\"Sütun 7\", inplace=True) #Cevap 7"
   ]
  },
  {
   "cell_type": "code",
   "execution_count": 75,
   "metadata": {},
   "outputs": [
    {
     "data": {
      "text/html": [
       "<div>\n",
       "<style>\n",
       "    .dataframe thead tr:only-child th {\n",
       "        text-align: right;\n",
       "    }\n",
       "\n",
       "    .dataframe thead th {\n",
       "        text-align: left;\n",
       "    }\n",
       "\n",
       "    .dataframe tbody tr th {\n",
       "        vertical-align: top;\n",
       "    }\n",
       "</style>\n",
       "<table border=\"1\" class=\"dataframe\">\n",
       "  <thead>\n",
       "    <tr style=\"text-align: right;\">\n",
       "      <th></th>\n",
       "      <th>Sütun 1</th>\n",
       "      <th>Sütun 2</th>\n",
       "      <th>Sütun 4</th>\n",
       "      <th>Sütun 5</th>\n",
       "      <th>Sütun 6</th>\n",
       "    </tr>\n",
       "    <tr>\n",
       "      <th>Sütun 7</th>\n",
       "      <th></th>\n",
       "      <th></th>\n",
       "      <th></th>\n",
       "      <th></th>\n",
       "      <th></th>\n",
       "    </tr>\n",
       "  </thead>\n",
       "  <tbody>\n",
       "    <tr>\n",
       "      <th>Etiket 1</th>\n",
       "      <td>3.139965</td>\n",
       "      <td>0.682129</td>\n",
       "      <td>0.374814</td>\n",
       "      <td>3.822094</td>\n",
       "      <td>-0.392961</td>\n",
       "    </tr>\n",
       "    <tr>\n",
       "      <th>Etiket 2</th>\n",
       "      <td>-0.695491</td>\n",
       "      <td>-0.084192</td>\n",
       "      <td>-1.662586</td>\n",
       "      <td>-0.779683</td>\n",
       "      <td>-0.936589</td>\n",
       "    </tr>\n",
       "    <tr>\n",
       "      <th>Etiket 3</th>\n",
       "      <td>0.749831</td>\n",
       "      <td>-1.769799</td>\n",
       "      <td>-0.386200</td>\n",
       "      <td>-1.019969</td>\n",
       "      <td>-1.886193</td>\n",
       "    </tr>\n",
       "  </tbody>\n",
       "</table>\n",
       "</div>"
      ],
      "text/plain": [
       "           Sütun 1   Sütun 2   Sütun 4   Sütun 5   Sütun 6\n",
       "Sütun 7                                                   \n",
       "Etiket 1  3.139965  0.682129  0.374814  3.822094 -0.392961\n",
       "Etiket 2 -0.695491 -0.084192 -1.662586 -0.779683 -0.936589\n",
       "Etiket 3  0.749831 -1.769799 -0.386200 -1.019969 -1.886193"
      ]
     },
     "execution_count": 75,
     "metadata": {},
     "output_type": "execute_result"
    }
   ],
   "source": [
    "df"
   ]
  },
  {
   "cell_type": "markdown",
   "metadata": {},
   "source": [
    "## DataFrame MultiIndex Gruplama"
   ]
  },
  {
   "cell_type": "code",
   "execution_count": 1,
   "metadata": {
    "collapsed": true
   },
   "outputs": [],
   "source": [
    "# 1. Dış ve iç indeksleri belirle\n",
    "# 2. Dış ve iç indeksleri demet şeklinde grupla\n",
    "# 3. Hiyerarşi değişkenini oluştur ***\n",
    "# 4. Hiyerarşi değişkenini indeks olarak kullanarak MultiIndex dataframe oluştur ***\n",
    "# 5. Dataframe üzerinde bir sütunu göster\n",
    "# 6. Dataframe üzerinde bir dış indeksi göster\n",
    "# 7. Dataframe üzerinde iki dış indeks göster\n",
    "# 8. Dataframe üzerinde bir iç indeks göster\n",
    "# 9. Indekslerin olduğu sütuna \"Gruplar\" ve \"indeksler\" diye isim ver ***\n",
    "# 10. Bir dış indeksi diğer yoldan göster\n",
    "# 11. Bir iç indeksi diğer yoldan göster\n",
    "# 12. Bir hücreyi diğer yoldan göster\n",
    "# 13. İç indeksi dış indeks yapıp bir dış indeksi göster ***"
   ]
  },
  {
   "cell_type": "code",
   "execution_count": 2,
   "metadata": {
    "collapsed": true
   },
   "outputs": [],
   "source": [
    "import pandas as pd\n",
    "import numpy as np"
   ]
  },
  {
   "cell_type": "code",
   "execution_count": 4,
   "metadata": {
    "collapsed": true
   },
   "outputs": [],
   "source": [
    "Gruplar = [\"Grup 1\", \"Grup 1\", \"Grup 1\", \"Grup 2\", \"Grup 2\", \"Grup 2\", \"Grup 3\", \"Grup 3\", \"Grup 3\"]\n",
    "Indexler = [\"Index 1\", \"Index 2\", \"Index 3\", \"Index 1\", \"Index 2\", \"Index 3\", \"Index 1\", \"Index 2\", \"Index 3\"] #Cevap 1"
   ]
  },
  {
   "cell_type": "code",
   "execution_count": 6,
   "metadata": {},
   "outputs": [
    {
     "data": {
      "text/plain": [
       "<zip at 0x260d478cf48>"
      ]
     },
     "execution_count": 6,
     "metadata": {},
     "output_type": "execute_result"
    }
   ],
   "source": [
    "zip(Gruplar,Indexler) #Cevap 2"
   ]
  },
  {
   "cell_type": "code",
   "execution_count": 7,
   "metadata": {
    "collapsed": true
   },
   "outputs": [],
   "source": [
    "hierarchy = list(zip(Gruplar, Indexler))"
   ]
  },
  {
   "cell_type": "code",
   "execution_count": 8,
   "metadata": {},
   "outputs": [
    {
     "data": {
      "text/plain": [
       "[('Grup 1', 'Index 1'),\n",
       " ('Grup 1', 'Index 2'),\n",
       " ('Grup 1', 'Index 3'),\n",
       " ('Grup 2', 'Index 1'),\n",
       " ('Grup 2', 'Index 2'),\n",
       " ('Grup 2', 'Index 3'),\n",
       " ('Grup 3', 'Index 1'),\n",
       " ('Grup 3', 'Index 2'),\n",
       " ('Grup 3', 'Index 3')]"
      ]
     },
     "execution_count": 8,
     "metadata": {},
     "output_type": "execute_result"
    }
   ],
   "source": [
    "hierarchy #Cevap 3"
   ]
  },
  {
   "cell_type": "code",
   "execution_count": 11,
   "metadata": {
    "collapsed": true
   },
   "outputs": [],
   "source": [
    "hierarchy = pd.MultiIndex.from_tuples(hierarchy)"
   ]
  },
  {
   "cell_type": "code",
   "execution_count": 12,
   "metadata": {},
   "outputs": [
    {
     "data": {
      "text/plain": [
       "MultiIndex(levels=[['Grup 1', 'Grup 2', 'Grup 3'], ['Index 1', 'Index 2', 'Index 3']],\n",
       "           labels=[[0, 0, 0, 1, 1, 1, 2, 2, 2], [0, 1, 2, 0, 1, 2, 0, 1, 2]])"
      ]
     },
     "execution_count": 12,
     "metadata": {},
     "output_type": "execute_result"
    }
   ],
   "source": [
    "hierarchy"
   ]
  },
  {
   "cell_type": "code",
   "execution_count": 14,
   "metadata": {
    "collapsed": true
   },
   "outputs": [],
   "source": [
    "mdf = pd.DataFrame(data=np.random.randint(-10,11,27).reshape(9,3), index=hierarchy, columns=[\"Sütun 1\", \"Sütun 2\", \"Sütun 3\"])  #Cevap 4 "
   ]
  },
  {
   "cell_type": "code",
   "execution_count": 15,
   "metadata": {},
   "outputs": [
    {
     "data": {
      "text/html": [
       "<div>\n",
       "<style>\n",
       "    .dataframe thead tr:only-child th {\n",
       "        text-align: right;\n",
       "    }\n",
       "\n",
       "    .dataframe thead th {\n",
       "        text-align: left;\n",
       "    }\n",
       "\n",
       "    .dataframe tbody tr th {\n",
       "        vertical-align: top;\n",
       "    }\n",
       "</style>\n",
       "<table border=\"1\" class=\"dataframe\">\n",
       "  <thead>\n",
       "    <tr style=\"text-align: right;\">\n",
       "      <th></th>\n",
       "      <th></th>\n",
       "      <th>Sütun 1</th>\n",
       "      <th>Sütun 2</th>\n",
       "      <th>Sütun 3</th>\n",
       "    </tr>\n",
       "  </thead>\n",
       "  <tbody>\n",
       "    <tr>\n",
       "      <th rowspan=\"3\" valign=\"top\">Grup 1</th>\n",
       "      <th>Index 1</th>\n",
       "      <td>-2</td>\n",
       "      <td>-8</td>\n",
       "      <td>-10</td>\n",
       "    </tr>\n",
       "    <tr>\n",
       "      <th>Index 2</th>\n",
       "      <td>10</td>\n",
       "      <td>3</td>\n",
       "      <td>8</td>\n",
       "    </tr>\n",
       "    <tr>\n",
       "      <th>Index 3</th>\n",
       "      <td>2</td>\n",
       "      <td>-8</td>\n",
       "      <td>-8</td>\n",
       "    </tr>\n",
       "    <tr>\n",
       "      <th rowspan=\"3\" valign=\"top\">Grup 2</th>\n",
       "      <th>Index 1</th>\n",
       "      <td>6</td>\n",
       "      <td>7</td>\n",
       "      <td>0</td>\n",
       "    </tr>\n",
       "    <tr>\n",
       "      <th>Index 2</th>\n",
       "      <td>4</td>\n",
       "      <td>7</td>\n",
       "      <td>9</td>\n",
       "    </tr>\n",
       "    <tr>\n",
       "      <th>Index 3</th>\n",
       "      <td>8</td>\n",
       "      <td>-7</td>\n",
       "      <td>9</td>\n",
       "    </tr>\n",
       "    <tr>\n",
       "      <th rowspan=\"3\" valign=\"top\">Grup 3</th>\n",
       "      <th>Index 1</th>\n",
       "      <td>-1</td>\n",
       "      <td>-1</td>\n",
       "      <td>-1</td>\n",
       "    </tr>\n",
       "    <tr>\n",
       "      <th>Index 2</th>\n",
       "      <td>-9</td>\n",
       "      <td>1</td>\n",
       "      <td>8</td>\n",
       "    </tr>\n",
       "    <tr>\n",
       "      <th>Index 3</th>\n",
       "      <td>3</td>\n",
       "      <td>-5</td>\n",
       "      <td>3</td>\n",
       "    </tr>\n",
       "  </tbody>\n",
       "</table>\n",
       "</div>"
      ],
      "text/plain": [
       "                Sütun 1  Sütun 2  Sütun 3\n",
       "Grup 1 Index 1       -2       -8      -10\n",
       "       Index 2       10        3        8\n",
       "       Index 3        2       -8       -8\n",
       "Grup 2 Index 1        6        7        0\n",
       "       Index 2        4        7        9\n",
       "       Index 3        8       -7        9\n",
       "Grup 3 Index 1       -1       -1       -1\n",
       "       Index 2       -9        1        8\n",
       "       Index 3        3       -5        3"
      ]
     },
     "execution_count": 15,
     "metadata": {},
     "output_type": "execute_result"
    }
   ],
   "source": [
    "mdf"
   ]
  },
  {
   "cell_type": "code",
   "execution_count": 16,
   "metadata": {},
   "outputs": [
    {
     "data": {
      "text/plain": [
       "Grup 1  Index 1    -2\n",
       "        Index 2    10\n",
       "        Index 3     2\n",
       "Grup 2  Index 1     6\n",
       "        Index 2     4\n",
       "        Index 3     8\n",
       "Grup 3  Index 1    -1\n",
       "        Index 2    -9\n",
       "        Index 3     3\n",
       "Name: Sütun 1, dtype: int32"
      ]
     },
     "execution_count": 16,
     "metadata": {},
     "output_type": "execute_result"
    }
   ],
   "source": [
    "mdf[\"Sütun 1\"] #Cevap 5"
   ]
  },
  {
   "cell_type": "code",
   "execution_count": 18,
   "metadata": {},
   "outputs": [
    {
     "data": {
      "text/html": [
       "<div>\n",
       "<style>\n",
       "    .dataframe thead tr:only-child th {\n",
       "        text-align: right;\n",
       "    }\n",
       "\n",
       "    .dataframe thead th {\n",
       "        text-align: left;\n",
       "    }\n",
       "\n",
       "    .dataframe tbody tr th {\n",
       "        vertical-align: top;\n",
       "    }\n",
       "</style>\n",
       "<table border=\"1\" class=\"dataframe\">\n",
       "  <thead>\n",
       "    <tr style=\"text-align: right;\">\n",
       "      <th></th>\n",
       "      <th>Sütun 1</th>\n",
       "      <th>Sütun 2</th>\n",
       "      <th>Sütun 3</th>\n",
       "    </tr>\n",
       "  </thead>\n",
       "  <tbody>\n",
       "    <tr>\n",
       "      <th>Index 1</th>\n",
       "      <td>6</td>\n",
       "      <td>7</td>\n",
       "      <td>0</td>\n",
       "    </tr>\n",
       "    <tr>\n",
       "      <th>Index 2</th>\n",
       "      <td>4</td>\n",
       "      <td>7</td>\n",
       "      <td>9</td>\n",
       "    </tr>\n",
       "    <tr>\n",
       "      <th>Index 3</th>\n",
       "      <td>8</td>\n",
       "      <td>-7</td>\n",
       "      <td>9</td>\n",
       "    </tr>\n",
       "  </tbody>\n",
       "</table>\n",
       "</div>"
      ],
      "text/plain": [
       "         Sütun 1  Sütun 2  Sütun 3\n",
       "Index 1        6        7        0\n",
       "Index 2        4        7        9\n",
       "Index 3        8       -7        9"
      ]
     },
     "execution_count": 18,
     "metadata": {},
     "output_type": "execute_result"
    }
   ],
   "source": [
    "mdf.loc[\"Grup 2\"] #Cevap 6"
   ]
  },
  {
   "cell_type": "code",
   "execution_count": 19,
   "metadata": {},
   "outputs": [
    {
     "data": {
      "text/html": [
       "<div>\n",
       "<style>\n",
       "    .dataframe thead tr:only-child th {\n",
       "        text-align: right;\n",
       "    }\n",
       "\n",
       "    .dataframe thead th {\n",
       "        text-align: left;\n",
       "    }\n",
       "\n",
       "    .dataframe tbody tr th {\n",
       "        vertical-align: top;\n",
       "    }\n",
       "</style>\n",
       "<table border=\"1\" class=\"dataframe\">\n",
       "  <thead>\n",
       "    <tr style=\"text-align: right;\">\n",
       "      <th></th>\n",
       "      <th></th>\n",
       "      <th>Sütun 1</th>\n",
       "      <th>Sütun 2</th>\n",
       "      <th>Sütun 3</th>\n",
       "    </tr>\n",
       "  </thead>\n",
       "  <tbody>\n",
       "    <tr>\n",
       "      <th rowspan=\"3\" valign=\"top\">Grup 2</th>\n",
       "      <th>Index 1</th>\n",
       "      <td>6</td>\n",
       "      <td>7</td>\n",
       "      <td>0</td>\n",
       "    </tr>\n",
       "    <tr>\n",
       "      <th>Index 2</th>\n",
       "      <td>4</td>\n",
       "      <td>7</td>\n",
       "      <td>9</td>\n",
       "    </tr>\n",
       "    <tr>\n",
       "      <th>Index 3</th>\n",
       "      <td>8</td>\n",
       "      <td>-7</td>\n",
       "      <td>9</td>\n",
       "    </tr>\n",
       "    <tr>\n",
       "      <th rowspan=\"3\" valign=\"top\">Grup 3</th>\n",
       "      <th>Index 1</th>\n",
       "      <td>-1</td>\n",
       "      <td>-1</td>\n",
       "      <td>-1</td>\n",
       "    </tr>\n",
       "    <tr>\n",
       "      <th>Index 2</th>\n",
       "      <td>-9</td>\n",
       "      <td>1</td>\n",
       "      <td>8</td>\n",
       "    </tr>\n",
       "    <tr>\n",
       "      <th>Index 3</th>\n",
       "      <td>3</td>\n",
       "      <td>-5</td>\n",
       "      <td>3</td>\n",
       "    </tr>\n",
       "  </tbody>\n",
       "</table>\n",
       "</div>"
      ],
      "text/plain": [
       "                Sütun 1  Sütun 2  Sütun 3\n",
       "Grup 2 Index 1        6        7        0\n",
       "       Index 2        4        7        9\n",
       "       Index 3        8       -7        9\n",
       "Grup 3 Index 1       -1       -1       -1\n",
       "       Index 2       -9        1        8\n",
       "       Index 3        3       -5        3"
      ]
     },
     "execution_count": 19,
     "metadata": {},
     "output_type": "execute_result"
    }
   ],
   "source": [
    "mdf.loc[[\"Grup 2\",\"Grup 3\"]] #Cevap 7"
   ]
  },
  {
   "cell_type": "code",
   "execution_count": 22,
   "metadata": {},
   "outputs": [
    {
     "data": {
      "text/plain": [
       "Sütun 1    2\n",
       "Sütun 2   -8\n",
       "Sütun 3   -8\n",
       "Name: Index 3, dtype: int32"
      ]
     },
     "execution_count": 22,
     "metadata": {},
     "output_type": "execute_result"
    }
   ],
   "source": [
    "mdf.loc[\"Grup 1\"].loc[\"Index 3\"] #Cevap 8"
   ]
  },
  {
   "cell_type": "code",
   "execution_count": 28,
   "metadata": {
    "collapsed": true
   },
   "outputs": [],
   "source": [
    "mdf.index.names = (\"Dış indeksler\",\"İç indeksler\") #Cevap 9"
   ]
  },
  {
   "cell_type": "code",
   "execution_count": 29,
   "metadata": {},
   "outputs": [
    {
     "data": {
      "text/html": [
       "<div>\n",
       "<style>\n",
       "    .dataframe thead tr:only-child th {\n",
       "        text-align: right;\n",
       "    }\n",
       "\n",
       "    .dataframe thead th {\n",
       "        text-align: left;\n",
       "    }\n",
       "\n",
       "    .dataframe tbody tr th {\n",
       "        vertical-align: top;\n",
       "    }\n",
       "</style>\n",
       "<table border=\"1\" class=\"dataframe\">\n",
       "  <thead>\n",
       "    <tr style=\"text-align: right;\">\n",
       "      <th></th>\n",
       "      <th></th>\n",
       "      <th>Sütun 1</th>\n",
       "      <th>Sütun 2</th>\n",
       "      <th>Sütun 3</th>\n",
       "    </tr>\n",
       "    <tr>\n",
       "      <th>Dış indeksler</th>\n",
       "      <th>İç indeksler</th>\n",
       "      <th></th>\n",
       "      <th></th>\n",
       "      <th></th>\n",
       "    </tr>\n",
       "  </thead>\n",
       "  <tbody>\n",
       "    <tr>\n",
       "      <th rowspan=\"3\" valign=\"top\">Grup 1</th>\n",
       "      <th>Index 1</th>\n",
       "      <td>-2</td>\n",
       "      <td>-8</td>\n",
       "      <td>-10</td>\n",
       "    </tr>\n",
       "    <tr>\n",
       "      <th>Index 2</th>\n",
       "      <td>10</td>\n",
       "      <td>3</td>\n",
       "      <td>8</td>\n",
       "    </tr>\n",
       "    <tr>\n",
       "      <th>Index 3</th>\n",
       "      <td>2</td>\n",
       "      <td>-8</td>\n",
       "      <td>-8</td>\n",
       "    </tr>\n",
       "    <tr>\n",
       "      <th rowspan=\"3\" valign=\"top\">Grup 2</th>\n",
       "      <th>Index 1</th>\n",
       "      <td>6</td>\n",
       "      <td>7</td>\n",
       "      <td>0</td>\n",
       "    </tr>\n",
       "    <tr>\n",
       "      <th>Index 2</th>\n",
       "      <td>4</td>\n",
       "      <td>7</td>\n",
       "      <td>9</td>\n",
       "    </tr>\n",
       "    <tr>\n",
       "      <th>Index 3</th>\n",
       "      <td>8</td>\n",
       "      <td>-7</td>\n",
       "      <td>9</td>\n",
       "    </tr>\n",
       "    <tr>\n",
       "      <th rowspan=\"3\" valign=\"top\">Grup 3</th>\n",
       "      <th>Index 1</th>\n",
       "      <td>-1</td>\n",
       "      <td>-1</td>\n",
       "      <td>-1</td>\n",
       "    </tr>\n",
       "    <tr>\n",
       "      <th>Index 2</th>\n",
       "      <td>-9</td>\n",
       "      <td>1</td>\n",
       "      <td>8</td>\n",
       "    </tr>\n",
       "    <tr>\n",
       "      <th>Index 3</th>\n",
       "      <td>3</td>\n",
       "      <td>-5</td>\n",
       "      <td>3</td>\n",
       "    </tr>\n",
       "  </tbody>\n",
       "</table>\n",
       "</div>"
      ],
      "text/plain": [
       "                            Sütun 1  Sütun 2  Sütun 3\n",
       "Dış indeksler İç indeksler                           \n",
       "Grup 1        Index 1            -2       -8      -10\n",
       "              Index 2            10        3        8\n",
       "              Index 3             2       -8       -8\n",
       "Grup 2        Index 1             6        7        0\n",
       "              Index 2             4        7        9\n",
       "              Index 3             8       -7        9\n",
       "Grup 3        Index 1            -1       -1       -1\n",
       "              Index 2            -9        1        8\n",
       "              Index 3             3       -5        3"
      ]
     },
     "execution_count": 29,
     "metadata": {},
     "output_type": "execute_result"
    }
   ],
   "source": [
    "mdf"
   ]
  },
  {
   "cell_type": "code",
   "execution_count": 30,
   "metadata": {},
   "outputs": [
    {
     "data": {
      "text/html": [
       "<div>\n",
       "<style>\n",
       "    .dataframe thead tr:only-child th {\n",
       "        text-align: right;\n",
       "    }\n",
       "\n",
       "    .dataframe thead th {\n",
       "        text-align: left;\n",
       "    }\n",
       "\n",
       "    .dataframe tbody tr th {\n",
       "        vertical-align: top;\n",
       "    }\n",
       "</style>\n",
       "<table border=\"1\" class=\"dataframe\">\n",
       "  <thead>\n",
       "    <tr style=\"text-align: right;\">\n",
       "      <th></th>\n",
       "      <th>Sütun 1</th>\n",
       "      <th>Sütun 2</th>\n",
       "      <th>Sütun 3</th>\n",
       "    </tr>\n",
       "    <tr>\n",
       "      <th>İç indeksler</th>\n",
       "      <th></th>\n",
       "      <th></th>\n",
       "      <th></th>\n",
       "    </tr>\n",
       "  </thead>\n",
       "  <tbody>\n",
       "    <tr>\n",
       "      <th>Index 1</th>\n",
       "      <td>-2</td>\n",
       "      <td>-8</td>\n",
       "      <td>-10</td>\n",
       "    </tr>\n",
       "    <tr>\n",
       "      <th>Index 2</th>\n",
       "      <td>10</td>\n",
       "      <td>3</td>\n",
       "      <td>8</td>\n",
       "    </tr>\n",
       "    <tr>\n",
       "      <th>Index 3</th>\n",
       "      <td>2</td>\n",
       "      <td>-8</td>\n",
       "      <td>-8</td>\n",
       "    </tr>\n",
       "  </tbody>\n",
       "</table>\n",
       "</div>"
      ],
      "text/plain": [
       "              Sütun 1  Sütun 2  Sütun 3\n",
       "İç indeksler                           \n",
       "Index 1            -2       -8      -10\n",
       "Index 2            10        3        8\n",
       "Index 3             2       -8       -8"
      ]
     },
     "execution_count": 30,
     "metadata": {},
     "output_type": "execute_result"
    }
   ],
   "source": [
    "mdf.xs(\"Grup 1\") #Cevap 10"
   ]
  },
  {
   "cell_type": "code",
   "execution_count": 31,
   "metadata": {},
   "outputs": [
    {
     "data": {
      "text/plain": [
       "Sütun 1    10\n",
       "Sütun 2     3\n",
       "Sütun 3     8\n",
       "Name: Index 2, dtype: int32"
      ]
     },
     "execution_count": 31,
     "metadata": {},
     "output_type": "execute_result"
    }
   ],
   "source": [
    "mdf.xs(\"Grup 1\").xs(\"Index 2\") #Cevap 11"
   ]
  },
  {
   "cell_type": "code",
   "execution_count": 32,
   "metadata": {},
   "outputs": [
    {
     "data": {
      "text/plain": [
       "8"
      ]
     },
     "execution_count": 32,
     "metadata": {},
     "output_type": "execute_result"
    }
   ],
   "source": [
    "mdf.xs(\"Grup 1\").xs(\"Index 2\").xs(\"Sütun 3\") #Cevap 12"
   ]
  },
  {
   "cell_type": "code",
   "execution_count": 35,
   "metadata": {},
   "outputs": [
    {
     "data": {
      "text/html": [
       "<div>\n",
       "<style>\n",
       "    .dataframe thead tr:only-child th {\n",
       "        text-align: right;\n",
       "    }\n",
       "\n",
       "    .dataframe thead th {\n",
       "        text-align: left;\n",
       "    }\n",
       "\n",
       "    .dataframe tbody tr th {\n",
       "        vertical-align: top;\n",
       "    }\n",
       "</style>\n",
       "<table border=\"1\" class=\"dataframe\">\n",
       "  <thead>\n",
       "    <tr style=\"text-align: right;\">\n",
       "      <th></th>\n",
       "      <th>Sütun 1</th>\n",
       "      <th>Sütun 2</th>\n",
       "      <th>Sütun 3</th>\n",
       "    </tr>\n",
       "    <tr>\n",
       "      <th>Dış indeksler</th>\n",
       "      <th></th>\n",
       "      <th></th>\n",
       "      <th></th>\n",
       "    </tr>\n",
       "  </thead>\n",
       "  <tbody>\n",
       "    <tr>\n",
       "      <th>Grup 1</th>\n",
       "      <td>-2</td>\n",
       "      <td>-8</td>\n",
       "      <td>-10</td>\n",
       "    </tr>\n",
       "    <tr>\n",
       "      <th>Grup 2</th>\n",
       "      <td>6</td>\n",
       "      <td>7</td>\n",
       "      <td>0</td>\n",
       "    </tr>\n",
       "    <tr>\n",
       "      <th>Grup 3</th>\n",
       "      <td>-1</td>\n",
       "      <td>-1</td>\n",
       "      <td>-1</td>\n",
       "    </tr>\n",
       "  </tbody>\n",
       "</table>\n",
       "</div>"
      ],
      "text/plain": [
       "               Sütun 1  Sütun 2  Sütun 3\n",
       "Dış indeksler                           \n",
       "Grup 1              -2       -8      -10\n",
       "Grup 2               6        7        0\n",
       "Grup 3              -1       -1       -1"
      ]
     },
     "execution_count": 35,
     "metadata": {},
     "output_type": "execute_result"
    }
   ],
   "source": [
    "mdf.xs(\"Index 1\", level=\"İç indeksler\") #Cevap 13"
   ]
  },
  {
   "cell_type": "markdown",
   "metadata": {},
   "source": [
    "# Kayıp veri analizi"
   ]
  },
  {
   "cell_type": "code",
   "execution_count": 36,
   "metadata": {
    "collapsed": true
   },
   "outputs": [],
   "source": [
    "# 1. Kayıp verilerden oluşan bir dataframe tanımla ***\n",
    "# 2. Kayıp verilerin olduğu satırları sil\n",
    "# 3. Kayıp verilerin olduğu sütunları sil\n",
    "# 4. Kayıp verilerin olduğu satırları belli bir kritere göre sil\n",
    "# 5. Kayıp verileri 0 ile doldur\n",
    "# 6. Kayıp verileri tüm değerlerin ortamalasıyla doldur ***\n",
    "# 7. Kayıp verileri satır ortalamasıyla doldur\n",
    "# 8. Kayıp verileri sütun ortalamasıyla doldur"
   ]
  },
  {
   "cell_type": "code",
   "execution_count": 38,
   "metadata": {
    "collapsed": true
   },
   "outputs": [],
   "source": [
    "r = np.array([[25, 12, np.nan, 7],[10, 0, 75, 50],[np.nan, np.nan, 15, 15],[45, 100, 5, 20]])"
   ]
  },
  {
   "cell_type": "code",
   "execution_count": 39,
   "metadata": {},
   "outputs": [
    {
     "data": {
      "text/plain": [
       "array([[  25.,   12.,   nan,    7.],\n",
       "       [  10.,    0.,   75.,   50.],\n",
       "       [  nan,   nan,   15.,   15.],\n",
       "       [  45.,  100.,    5.,   20.]])"
      ]
     },
     "execution_count": 39,
     "metadata": {},
     "output_type": "execute_result"
    }
   ],
   "source": [
    "r"
   ]
  },
  {
   "cell_type": "code",
   "execution_count": 40,
   "metadata": {
    "collapsed": true
   },
   "outputs": [],
   "source": [
    "kdf = pd.DataFrame(data=r,index=[\"A\",\"B\",\"C\",\"D\"],columns=[\"S1\",\"S2\",\"S3\",\"S4\"])"
   ]
  },
  {
   "cell_type": "code",
   "execution_count": 41,
   "metadata": {},
   "outputs": [
    {
     "data": {
      "text/html": [
       "<div>\n",
       "<style>\n",
       "    .dataframe thead tr:only-child th {\n",
       "        text-align: right;\n",
       "    }\n",
       "\n",
       "    .dataframe thead th {\n",
       "        text-align: left;\n",
       "    }\n",
       "\n",
       "    .dataframe tbody tr th {\n",
       "        vertical-align: top;\n",
       "    }\n",
       "</style>\n",
       "<table border=\"1\" class=\"dataframe\">\n",
       "  <thead>\n",
       "    <tr style=\"text-align: right;\">\n",
       "      <th></th>\n",
       "      <th>S1</th>\n",
       "      <th>S2</th>\n",
       "      <th>S3</th>\n",
       "      <th>S4</th>\n",
       "    </tr>\n",
       "  </thead>\n",
       "  <tbody>\n",
       "    <tr>\n",
       "      <th>A</th>\n",
       "      <td>25.0</td>\n",
       "      <td>12.0</td>\n",
       "      <td>NaN</td>\n",
       "      <td>7.0</td>\n",
       "    </tr>\n",
       "    <tr>\n",
       "      <th>B</th>\n",
       "      <td>10.0</td>\n",
       "      <td>0.0</td>\n",
       "      <td>75.0</td>\n",
       "      <td>50.0</td>\n",
       "    </tr>\n",
       "    <tr>\n",
       "      <th>C</th>\n",
       "      <td>NaN</td>\n",
       "      <td>NaN</td>\n",
       "      <td>15.0</td>\n",
       "      <td>15.0</td>\n",
       "    </tr>\n",
       "    <tr>\n",
       "      <th>D</th>\n",
       "      <td>45.0</td>\n",
       "      <td>100.0</td>\n",
       "      <td>5.0</td>\n",
       "      <td>20.0</td>\n",
       "    </tr>\n",
       "  </tbody>\n",
       "</table>\n",
       "</div>"
      ],
      "text/plain": [
       "     S1     S2    S3    S4\n",
       "A  25.0   12.0   NaN   7.0\n",
       "B  10.0    0.0  75.0  50.0\n",
       "C   NaN    NaN  15.0  15.0\n",
       "D  45.0  100.0   5.0  20.0"
      ]
     },
     "execution_count": 41,
     "metadata": {},
     "output_type": "execute_result"
    }
   ],
   "source": [
    "kdf #Cevap 1"
   ]
  },
  {
   "cell_type": "code",
   "execution_count": 42,
   "metadata": {},
   "outputs": [
    {
     "data": {
      "text/html": [
       "<div>\n",
       "<style>\n",
       "    .dataframe thead tr:only-child th {\n",
       "        text-align: right;\n",
       "    }\n",
       "\n",
       "    .dataframe thead th {\n",
       "        text-align: left;\n",
       "    }\n",
       "\n",
       "    .dataframe tbody tr th {\n",
       "        vertical-align: top;\n",
       "    }\n",
       "</style>\n",
       "<table border=\"1\" class=\"dataframe\">\n",
       "  <thead>\n",
       "    <tr style=\"text-align: right;\">\n",
       "      <th></th>\n",
       "      <th>S1</th>\n",
       "      <th>S2</th>\n",
       "      <th>S3</th>\n",
       "      <th>S4</th>\n",
       "    </tr>\n",
       "  </thead>\n",
       "  <tbody>\n",
       "    <tr>\n",
       "      <th>B</th>\n",
       "      <td>10.0</td>\n",
       "      <td>0.0</td>\n",
       "      <td>75.0</td>\n",
       "      <td>50.0</td>\n",
       "    </tr>\n",
       "    <tr>\n",
       "      <th>D</th>\n",
       "      <td>45.0</td>\n",
       "      <td>100.0</td>\n",
       "      <td>5.0</td>\n",
       "      <td>20.0</td>\n",
       "    </tr>\n",
       "  </tbody>\n",
       "</table>\n",
       "</div>"
      ],
      "text/plain": [
       "     S1     S2    S3    S4\n",
       "B  10.0    0.0  75.0  50.0\n",
       "D  45.0  100.0   5.0  20.0"
      ]
     },
     "execution_count": 42,
     "metadata": {},
     "output_type": "execute_result"
    }
   ],
   "source": [
    "kdf.dropna() #Cevap 2"
   ]
  },
  {
   "cell_type": "code",
   "execution_count": 43,
   "metadata": {},
   "outputs": [
    {
     "data": {
      "text/html": [
       "<div>\n",
       "<style>\n",
       "    .dataframe thead tr:only-child th {\n",
       "        text-align: right;\n",
       "    }\n",
       "\n",
       "    .dataframe thead th {\n",
       "        text-align: left;\n",
       "    }\n",
       "\n",
       "    .dataframe tbody tr th {\n",
       "        vertical-align: top;\n",
       "    }\n",
       "</style>\n",
       "<table border=\"1\" class=\"dataframe\">\n",
       "  <thead>\n",
       "    <tr style=\"text-align: right;\">\n",
       "      <th></th>\n",
       "      <th>S4</th>\n",
       "    </tr>\n",
       "  </thead>\n",
       "  <tbody>\n",
       "    <tr>\n",
       "      <th>A</th>\n",
       "      <td>7.0</td>\n",
       "    </tr>\n",
       "    <tr>\n",
       "      <th>B</th>\n",
       "      <td>50.0</td>\n",
       "    </tr>\n",
       "    <tr>\n",
       "      <th>C</th>\n",
       "      <td>15.0</td>\n",
       "    </tr>\n",
       "    <tr>\n",
       "      <th>D</th>\n",
       "      <td>20.0</td>\n",
       "    </tr>\n",
       "  </tbody>\n",
       "</table>\n",
       "</div>"
      ],
      "text/plain": [
       "     S4\n",
       "A   7.0\n",
       "B  50.0\n",
       "C  15.0\n",
       "D  20.0"
      ]
     },
     "execution_count": 43,
     "metadata": {},
     "output_type": "execute_result"
    }
   ],
   "source": [
    "kdf.dropna(axis=1) #Cevap 3"
   ]
  },
  {
   "cell_type": "code",
   "execution_count": 45,
   "metadata": {},
   "outputs": [
    {
     "data": {
      "text/html": [
       "<div>\n",
       "<style>\n",
       "    .dataframe thead tr:only-child th {\n",
       "        text-align: right;\n",
       "    }\n",
       "\n",
       "    .dataframe thead th {\n",
       "        text-align: left;\n",
       "    }\n",
       "\n",
       "    .dataframe tbody tr th {\n",
       "        vertical-align: top;\n",
       "    }\n",
       "</style>\n",
       "<table border=\"1\" class=\"dataframe\">\n",
       "  <thead>\n",
       "    <tr style=\"text-align: right;\">\n",
       "      <th></th>\n",
       "      <th>S1</th>\n",
       "      <th>S2</th>\n",
       "      <th>S3</th>\n",
       "      <th>S4</th>\n",
       "    </tr>\n",
       "  </thead>\n",
       "  <tbody>\n",
       "    <tr>\n",
       "      <th>A</th>\n",
       "      <td>25.0</td>\n",
       "      <td>12.0</td>\n",
       "      <td>NaN</td>\n",
       "      <td>7.0</td>\n",
       "    </tr>\n",
       "    <tr>\n",
       "      <th>B</th>\n",
       "      <td>10.0</td>\n",
       "      <td>0.0</td>\n",
       "      <td>75.0</td>\n",
       "      <td>50.0</td>\n",
       "    </tr>\n",
       "    <tr>\n",
       "      <th>D</th>\n",
       "      <td>45.0</td>\n",
       "      <td>100.0</td>\n",
       "      <td>5.0</td>\n",
       "      <td>20.0</td>\n",
       "    </tr>\n",
       "  </tbody>\n",
       "</table>\n",
       "</div>"
      ],
      "text/plain": [
       "     S1     S2    S3    S4\n",
       "A  25.0   12.0   NaN   7.0\n",
       "B  10.0    0.0  75.0  50.0\n",
       "D  45.0  100.0   5.0  20.0"
      ]
     },
     "execution_count": 45,
     "metadata": {},
     "output_type": "execute_result"
    }
   ],
   "source": [
    "kdf.dropna(thresh=3) #Cevap 4"
   ]
  },
  {
   "cell_type": "code",
   "execution_count": 46,
   "metadata": {},
   "outputs": [
    {
     "data": {
      "text/html": [
       "<div>\n",
       "<style>\n",
       "    .dataframe thead tr:only-child th {\n",
       "        text-align: right;\n",
       "    }\n",
       "\n",
       "    .dataframe thead th {\n",
       "        text-align: left;\n",
       "    }\n",
       "\n",
       "    .dataframe tbody tr th {\n",
       "        vertical-align: top;\n",
       "    }\n",
       "</style>\n",
       "<table border=\"1\" class=\"dataframe\">\n",
       "  <thead>\n",
       "    <tr style=\"text-align: right;\">\n",
       "      <th></th>\n",
       "      <th>S1</th>\n",
       "      <th>S2</th>\n",
       "      <th>S3</th>\n",
       "      <th>S4</th>\n",
       "    </tr>\n",
       "  </thead>\n",
       "  <tbody>\n",
       "    <tr>\n",
       "      <th>A</th>\n",
       "      <td>25.0</td>\n",
       "      <td>12.0</td>\n",
       "      <td>0.0</td>\n",
       "      <td>7.0</td>\n",
       "    </tr>\n",
       "    <tr>\n",
       "      <th>B</th>\n",
       "      <td>10.0</td>\n",
       "      <td>0.0</td>\n",
       "      <td>75.0</td>\n",
       "      <td>50.0</td>\n",
       "    </tr>\n",
       "    <tr>\n",
       "      <th>C</th>\n",
       "      <td>0.0</td>\n",
       "      <td>0.0</td>\n",
       "      <td>15.0</td>\n",
       "      <td>15.0</td>\n",
       "    </tr>\n",
       "    <tr>\n",
       "      <th>D</th>\n",
       "      <td>45.0</td>\n",
       "      <td>100.0</td>\n",
       "      <td>5.0</td>\n",
       "      <td>20.0</td>\n",
       "    </tr>\n",
       "  </tbody>\n",
       "</table>\n",
       "</div>"
      ],
      "text/plain": [
       "     S1     S2    S3    S4\n",
       "A  25.0   12.0   0.0   7.0\n",
       "B  10.0    0.0  75.0  50.0\n",
       "C   0.0    0.0  15.0  15.0\n",
       "D  45.0  100.0   5.0  20.0"
      ]
     },
     "execution_count": 46,
     "metadata": {},
     "output_type": "execute_result"
    }
   ],
   "source": [
    "kdf.fillna(0) #Cevap 5"
   ]
  },
  {
   "cell_type": "code",
   "execution_count": 50,
   "metadata": {
    "collapsed": true
   },
   "outputs": [],
   "source": [
    "toplam = kdf.sum().sum()"
   ]
  },
  {
   "cell_type": "code",
   "execution_count": 64,
   "metadata": {
    "collapsed": true
   },
   "outputs": [],
   "source": [
    "hücre_adet = kdf.size"
   ]
  },
  {
   "cell_type": "code",
   "execution_count": 65,
   "metadata": {
    "collapsed": true
   },
   "outputs": [],
   "source": [
    "boşhücre_adet = kdf.isnull().sum().sum()"
   ]
  },
  {
   "cell_type": "code",
   "execution_count": 66,
   "metadata": {
    "collapsed": true
   },
   "outputs": [],
   "source": [
    "def ortalama(kdf):\n",
    "    return toplam/(hücre_adet-boşhücre_adet)"
   ]
  },
  {
   "cell_type": "code",
   "execution_count": 67,
   "metadata": {},
   "outputs": [
    {
     "data": {
      "text/html": [
       "<div>\n",
       "<style>\n",
       "    .dataframe thead tr:only-child th {\n",
       "        text-align: right;\n",
       "    }\n",
       "\n",
       "    .dataframe thead th {\n",
       "        text-align: left;\n",
       "    }\n",
       "\n",
       "    .dataframe tbody tr th {\n",
       "        vertical-align: top;\n",
       "    }\n",
       "</style>\n",
       "<table border=\"1\" class=\"dataframe\">\n",
       "  <thead>\n",
       "    <tr style=\"text-align: right;\">\n",
       "      <th></th>\n",
       "      <th>S1</th>\n",
       "      <th>S2</th>\n",
       "      <th>S3</th>\n",
       "      <th>S4</th>\n",
       "    </tr>\n",
       "  </thead>\n",
       "  <tbody>\n",
       "    <tr>\n",
       "      <th>A</th>\n",
       "      <td>25.000000</td>\n",
       "      <td>12.000000</td>\n",
       "      <td>29.153846</td>\n",
       "      <td>7.0</td>\n",
       "    </tr>\n",
       "    <tr>\n",
       "      <th>B</th>\n",
       "      <td>10.000000</td>\n",
       "      <td>0.000000</td>\n",
       "      <td>75.000000</td>\n",
       "      <td>50.0</td>\n",
       "    </tr>\n",
       "    <tr>\n",
       "      <th>C</th>\n",
       "      <td>29.153846</td>\n",
       "      <td>29.153846</td>\n",
       "      <td>15.000000</td>\n",
       "      <td>15.0</td>\n",
       "    </tr>\n",
       "    <tr>\n",
       "      <th>D</th>\n",
       "      <td>45.000000</td>\n",
       "      <td>100.000000</td>\n",
       "      <td>5.000000</td>\n",
       "      <td>20.0</td>\n",
       "    </tr>\n",
       "  </tbody>\n",
       "</table>\n",
       "</div>"
      ],
      "text/plain": [
       "          S1          S2         S3    S4\n",
       "A  25.000000   12.000000  29.153846   7.0\n",
       "B  10.000000    0.000000  75.000000  50.0\n",
       "C  29.153846   29.153846  15.000000  15.0\n",
       "D  45.000000  100.000000   5.000000  20.0"
      ]
     },
     "execution_count": 67,
     "metadata": {},
     "output_type": "execute_result"
    }
   ],
   "source": [
    "kdf.fillna(ortalama(kdf)) #Cevap 6"
   ]
  },
  {
   "cell_type": "markdown",
   "metadata": {},
   "source": [
    "## GroupBy operasyonları"
   ]
  },
  {
   "cell_type": "code",
   "execution_count": 86,
   "metadata": {
    "collapsed": true
   },
   "outputs": [],
   "source": [
    "# 1. Anabilim dalından oluşan bir veriseti tanımla, dataframe oluştur\n",
    "# 2. Herbir anabilim dalının toplam gelirini hesapla ***\n",
    "# 3. Üretim Yönetimi anabilim dalının toplam gelirini göster ***\n",
    "# 4. Herbir anabilim dalında kaç kişi var say\n",
    "# 5. Herbir anabilim dalında en yüksek geliri olanları yazdır\n",
    "# 6. Üretim Yönetimi anabilim dalı en düşük geliri olanı göster\n",
    "# 7. Üretim Yönetimi ortalama maaş göster"
   ]
  },
  {
   "cell_type": "code",
   "execution_count": 98,
   "metadata": {
    "collapsed": true
   },
   "outputs": [],
   "source": [
    "işletme = {\n",
    "    \"1.Öğretim Üyesi\":[\"Prof.Dr. Halim Kazan\",\"Prof.Dr. Erdinç Altay\",\"Prof. Dr. Şebnem Arıkboğa\",\"Prof.Dr. Süphan Nasır\",\"Prof.Dr. Selahattin Karabınar\",\"Prof.Dr. Mehmet Saraç\",\"Doç.Dr. Duygu Anıl Keskin\",\"Doç.Dr. Mahmut Hızıroğlu\",\"Dr.Öğr.Ü. Arif Saldanlı\",\"Dr.Öğr.Ü. Burçay Yaşar Akçalı\",\"Dr.Öğr.Ü. Mehmet Sabri Topak\",\"Dr.Öğr.Ü. Elçin Şişmanoğlu\",\"Dr.Öğr.Ü. Zekeriya Emre Erkal\",\"Dr.Öğr.Ü. Hatice Anıl Değermen\",\"Öğr.Ü.Dr. Mehmet Baykal\",\"Öğr.Ü.Dr. Yaprak Burçak Boydak Öztaş\",\"Dr.Öğr.Ü. Bora Yıldız\",\"Dr.Öğr.Ü. Buket Akdöl\",\"Dr.Öğr.Ü. Ebru Doğan\",\"Dr.Öğr.Ü. Sema Yolaç\",\"Arş.Gör. Yiğit Yurder\",\"Arş.Gör. Sümeyra Uzun\",\"Arş. Gör. Serdar Semih Coşkun\",\"Arş.Gör. Oğuzhan İrengün\",\"Arş.Gör. Ahmet Çağlar Saygılı\"],\n",
    "    \"2.Anabilim Dalı\":[\"Üretim Yönetimi\",\"Finans\",\"Yönetim ve Organizasyon\",\"Pazarlama\",\"Muhasebe\",\"Finans\",\"Muhasebe\",\"Yönetim ve Organizasyon\",\"Finans\",\"Finans\",\"Finans\",\"Muhasebe\",\"Muhasebe\",\"Pazarlama\",\"Pazarlama\",\"Pazarlama\",\"Yönetim ve Organizasyon\",\"Yönetim ve Organizasyon\",\"Yönetim ve Organizasyon\",\"Yönetim ve Organizasyon\",\"Pazarlama\",\"Finans\",\"Üretim Yönetimi\",\"Yönetim ve Organizasyon\",\"Üretim Yönetimi\"],\n",
    "    \"3.Gelir\":[13000,9500,9000,10000,9000,9500,8000,8500,10000,6000,8500,6000,5500,6000,6500,5500,8000,6000,5500,5500,5000,5000,5000,5000,5000]\n",
    "}"
   ]
  },
  {
   "cell_type": "code",
   "execution_count": 99,
   "metadata": {
    "collapsed": true
   },
   "outputs": [],
   "source": [
    "işletme_bölümü = pd.DataFrame(işletme)"
   ]
  },
  {
   "cell_type": "code",
   "execution_count": 100,
   "metadata": {},
   "outputs": [
    {
     "data": {
      "text/html": [
       "<div>\n",
       "<style>\n",
       "    .dataframe thead tr:only-child th {\n",
       "        text-align: right;\n",
       "    }\n",
       "\n",
       "    .dataframe thead th {\n",
       "        text-align: left;\n",
       "    }\n",
       "\n",
       "    .dataframe tbody tr th {\n",
       "        vertical-align: top;\n",
       "    }\n",
       "</style>\n",
       "<table border=\"1\" class=\"dataframe\">\n",
       "  <thead>\n",
       "    <tr style=\"text-align: right;\">\n",
       "      <th></th>\n",
       "      <th>1.Öğretim Üyesi</th>\n",
       "      <th>2.Anabilim Dalı</th>\n",
       "      <th>3.Gelir</th>\n",
       "    </tr>\n",
       "  </thead>\n",
       "  <tbody>\n",
       "    <tr>\n",
       "      <th>0</th>\n",
       "      <td>Prof.Dr. Halim Kazan</td>\n",
       "      <td>Üretim Yönetimi</td>\n",
       "      <td>13000</td>\n",
       "    </tr>\n",
       "    <tr>\n",
       "      <th>1</th>\n",
       "      <td>Prof.Dr. Erdinç Altay</td>\n",
       "      <td>Finans</td>\n",
       "      <td>9500</td>\n",
       "    </tr>\n",
       "    <tr>\n",
       "      <th>2</th>\n",
       "      <td>Prof. Dr. Şebnem Arıkboğa</td>\n",
       "      <td>Yönetim ve Organizasyon</td>\n",
       "      <td>9000</td>\n",
       "    </tr>\n",
       "    <tr>\n",
       "      <th>3</th>\n",
       "      <td>Prof.Dr. Süphan Nasır</td>\n",
       "      <td>Pazarlama</td>\n",
       "      <td>10000</td>\n",
       "    </tr>\n",
       "    <tr>\n",
       "      <th>4</th>\n",
       "      <td>Prof.Dr. Selahattin Karabınar</td>\n",
       "      <td>Muhasebe</td>\n",
       "      <td>9000</td>\n",
       "    </tr>\n",
       "    <tr>\n",
       "      <th>5</th>\n",
       "      <td>Prof.Dr. Mehmet Saraç</td>\n",
       "      <td>Finans</td>\n",
       "      <td>9500</td>\n",
       "    </tr>\n",
       "    <tr>\n",
       "      <th>6</th>\n",
       "      <td>Doç.Dr. Duygu Anıl Keskin</td>\n",
       "      <td>Muhasebe</td>\n",
       "      <td>8000</td>\n",
       "    </tr>\n",
       "    <tr>\n",
       "      <th>7</th>\n",
       "      <td>Doç.Dr. Mahmut Hızıroğlu</td>\n",
       "      <td>Yönetim ve Organizasyon</td>\n",
       "      <td>8500</td>\n",
       "    </tr>\n",
       "    <tr>\n",
       "      <th>8</th>\n",
       "      <td>Dr.Öğr.Ü. Arif Saldanlı</td>\n",
       "      <td>Finans</td>\n",
       "      <td>10000</td>\n",
       "    </tr>\n",
       "    <tr>\n",
       "      <th>9</th>\n",
       "      <td>Dr.Öğr.Ü. Burçay Yaşar Akçalı</td>\n",
       "      <td>Finans</td>\n",
       "      <td>6000</td>\n",
       "    </tr>\n",
       "    <tr>\n",
       "      <th>10</th>\n",
       "      <td>Dr.Öğr.Ü. Mehmet Sabri Topak</td>\n",
       "      <td>Finans</td>\n",
       "      <td>8500</td>\n",
       "    </tr>\n",
       "    <tr>\n",
       "      <th>11</th>\n",
       "      <td>Dr.Öğr.Ü. Elçin Şişmanoğlu</td>\n",
       "      <td>Muhasebe</td>\n",
       "      <td>6000</td>\n",
       "    </tr>\n",
       "    <tr>\n",
       "      <th>12</th>\n",
       "      <td>Dr.Öğr.Ü. Zekeriya Emre Erkal</td>\n",
       "      <td>Muhasebe</td>\n",
       "      <td>5500</td>\n",
       "    </tr>\n",
       "    <tr>\n",
       "      <th>13</th>\n",
       "      <td>Dr.Öğr.Ü. Hatice Anıl Değermen</td>\n",
       "      <td>Pazarlama</td>\n",
       "      <td>6000</td>\n",
       "    </tr>\n",
       "    <tr>\n",
       "      <th>14</th>\n",
       "      <td>Öğr.Ü.Dr. Mehmet Baykal</td>\n",
       "      <td>Pazarlama</td>\n",
       "      <td>6500</td>\n",
       "    </tr>\n",
       "    <tr>\n",
       "      <th>15</th>\n",
       "      <td>Öğr.Ü.Dr. Yaprak Burçak Boydak Öztaş</td>\n",
       "      <td>Pazarlama</td>\n",
       "      <td>5500</td>\n",
       "    </tr>\n",
       "    <tr>\n",
       "      <th>16</th>\n",
       "      <td>Dr.Öğr.Ü. Bora Yıldız</td>\n",
       "      <td>Yönetim ve Organizasyon</td>\n",
       "      <td>8000</td>\n",
       "    </tr>\n",
       "    <tr>\n",
       "      <th>17</th>\n",
       "      <td>Dr.Öğr.Ü. Buket Akdöl</td>\n",
       "      <td>Yönetim ve Organizasyon</td>\n",
       "      <td>6000</td>\n",
       "    </tr>\n",
       "    <tr>\n",
       "      <th>18</th>\n",
       "      <td>Dr.Öğr.Ü. Ebru Doğan</td>\n",
       "      <td>Yönetim ve Organizasyon</td>\n",
       "      <td>5500</td>\n",
       "    </tr>\n",
       "    <tr>\n",
       "      <th>19</th>\n",
       "      <td>Dr.Öğr.Ü. Sema Yolaç</td>\n",
       "      <td>Yönetim ve Organizasyon</td>\n",
       "      <td>5500</td>\n",
       "    </tr>\n",
       "    <tr>\n",
       "      <th>20</th>\n",
       "      <td>Arş.Gör. Yiğit Yurder</td>\n",
       "      <td>Pazarlama</td>\n",
       "      <td>5000</td>\n",
       "    </tr>\n",
       "    <tr>\n",
       "      <th>21</th>\n",
       "      <td>Arş.Gör. Sümeyra Uzun</td>\n",
       "      <td>Finans</td>\n",
       "      <td>5000</td>\n",
       "    </tr>\n",
       "    <tr>\n",
       "      <th>22</th>\n",
       "      <td>Arş. Gör. Serdar Semih Coşkun</td>\n",
       "      <td>Üretim Yönetimi</td>\n",
       "      <td>5000</td>\n",
       "    </tr>\n",
       "    <tr>\n",
       "      <th>23</th>\n",
       "      <td>Arş.Gör. Oğuzhan İrengün</td>\n",
       "      <td>Yönetim ve Organizasyon</td>\n",
       "      <td>5000</td>\n",
       "    </tr>\n",
       "    <tr>\n",
       "      <th>24</th>\n",
       "      <td>Arş.Gör. Ahmet Çağlar Saygılı</td>\n",
       "      <td>Üretim Yönetimi</td>\n",
       "      <td>5000</td>\n",
       "    </tr>\n",
       "  </tbody>\n",
       "</table>\n",
       "</div>"
      ],
      "text/plain": [
       "                         1.Öğretim Üyesi          2.Anabilim Dalı  3.Gelir\n",
       "0                   Prof.Dr. Halim Kazan          Üretim Yönetimi    13000\n",
       "1                  Prof.Dr. Erdinç Altay                   Finans     9500\n",
       "2              Prof. Dr. Şebnem Arıkboğa  Yönetim ve Organizasyon     9000\n",
       "3                  Prof.Dr. Süphan Nasır                Pazarlama    10000\n",
       "4          Prof.Dr. Selahattin Karabınar                 Muhasebe     9000\n",
       "5                  Prof.Dr. Mehmet Saraç                   Finans     9500\n",
       "6              Doç.Dr. Duygu Anıl Keskin                 Muhasebe     8000\n",
       "7               Doç.Dr. Mahmut Hızıroğlu  Yönetim ve Organizasyon     8500\n",
       "8                Dr.Öğr.Ü. Arif Saldanlı                   Finans    10000\n",
       "9          Dr.Öğr.Ü. Burçay Yaşar Akçalı                   Finans     6000\n",
       "10          Dr.Öğr.Ü. Mehmet Sabri Topak                   Finans     8500\n",
       "11            Dr.Öğr.Ü. Elçin Şişmanoğlu                 Muhasebe     6000\n",
       "12         Dr.Öğr.Ü. Zekeriya Emre Erkal                 Muhasebe     5500\n",
       "13        Dr.Öğr.Ü. Hatice Anıl Değermen                Pazarlama     6000\n",
       "14               Öğr.Ü.Dr. Mehmet Baykal                Pazarlama     6500\n",
       "15  Öğr.Ü.Dr. Yaprak Burçak Boydak Öztaş                Pazarlama     5500\n",
       "16                 Dr.Öğr.Ü. Bora Yıldız  Yönetim ve Organizasyon     8000\n",
       "17                 Dr.Öğr.Ü. Buket Akdöl  Yönetim ve Organizasyon     6000\n",
       "18                  Dr.Öğr.Ü. Ebru Doğan  Yönetim ve Organizasyon     5500\n",
       "19                  Dr.Öğr.Ü. Sema Yolaç  Yönetim ve Organizasyon     5500\n",
       "20                 Arş.Gör. Yiğit Yurder                Pazarlama     5000\n",
       "21                 Arş.Gör. Sümeyra Uzun                   Finans     5000\n",
       "22         Arş. Gör. Serdar Semih Coşkun          Üretim Yönetimi     5000\n",
       "23              Arş.Gör. Oğuzhan İrengün  Yönetim ve Organizasyon     5000\n",
       "24         Arş.Gör. Ahmet Çağlar Saygılı          Üretim Yönetimi     5000"
      ]
     },
     "execution_count": 100,
     "metadata": {},
     "output_type": "execute_result"
    }
   ],
   "source": [
    "işletme_bölümü #Cevap 1"
   ]
  },
  {
   "cell_type": "code",
   "execution_count": 110,
   "metadata": {},
   "outputs": [
    {
     "data": {
      "text/plain": [
       "<pandas.core.groupby.DataFrameGroupBy object at 0x00000260D4A609E8>"
      ]
     },
     "execution_count": 110,
     "metadata": {},
     "output_type": "execute_result"
    }
   ],
   "source": [
    "işletme_bölümü.groupby(\"2.Anabilim Dalı\")"
   ]
  },
  {
   "cell_type": "code",
   "execution_count": 111,
   "metadata": {},
   "outputs": [
    {
     "data": {
      "text/html": [
       "<div>\n",
       "<style>\n",
       "    .dataframe thead tr:only-child th {\n",
       "        text-align: right;\n",
       "    }\n",
       "\n",
       "    .dataframe thead th {\n",
       "        text-align: left;\n",
       "    }\n",
       "\n",
       "    .dataframe tbody tr th {\n",
       "        vertical-align: top;\n",
       "    }\n",
       "</style>\n",
       "<table border=\"1\" class=\"dataframe\">\n",
       "  <thead>\n",
       "    <tr style=\"text-align: right;\">\n",
       "      <th></th>\n",
       "      <th>3.Gelir</th>\n",
       "    </tr>\n",
       "    <tr>\n",
       "      <th>2.Anabilim Dalı</th>\n",
       "      <th></th>\n",
       "    </tr>\n",
       "  </thead>\n",
       "  <tbody>\n",
       "    <tr>\n",
       "      <th>Finans</th>\n",
       "      <td>48500</td>\n",
       "    </tr>\n",
       "    <tr>\n",
       "      <th>Muhasebe</th>\n",
       "      <td>28500</td>\n",
       "    </tr>\n",
       "    <tr>\n",
       "      <th>Pazarlama</th>\n",
       "      <td>33000</td>\n",
       "    </tr>\n",
       "    <tr>\n",
       "      <th>Yönetim ve Organizasyon</th>\n",
       "      <td>47500</td>\n",
       "    </tr>\n",
       "    <tr>\n",
       "      <th>Üretim Yönetimi</th>\n",
       "      <td>23000</td>\n",
       "    </tr>\n",
       "  </tbody>\n",
       "</table>\n",
       "</div>"
      ],
      "text/plain": [
       "                         3.Gelir\n",
       "2.Anabilim Dalı                 \n",
       "Finans                     48500\n",
       "Muhasebe                   28500\n",
       "Pazarlama                  33000\n",
       "Yönetim ve Organizasyon    47500\n",
       "Üretim Yönetimi            23000"
      ]
     },
     "execution_count": 111,
     "metadata": {},
     "output_type": "execute_result"
    }
   ],
   "source": [
    "işletme_bölümü.groupby(\"2.Anabilim Dalı\").sum() #Cevap 2"
   ]
  },
  {
   "cell_type": "code",
   "execution_count": 115,
   "metadata": {},
   "outputs": [
    {
     "data": {
      "text/plain": [
       "3.Gelir    23000\n",
       "Name: Üretim Yönetimi, dtype: int64"
      ]
     },
     "execution_count": 115,
     "metadata": {},
     "output_type": "execute_result"
    }
   ],
   "source": [
    "işletme_bölümü.groupby(\"2.Anabilim Dalı\").sum().loc[\"Üretim Yönetimi\"] #Cevap 3"
   ]
  },
  {
   "cell_type": "code",
   "execution_count": 116,
   "metadata": {},
   "outputs": [
    {
     "data": {
      "text/html": [
       "<div>\n",
       "<style>\n",
       "    .dataframe thead tr:only-child th {\n",
       "        text-align: right;\n",
       "    }\n",
       "\n",
       "    .dataframe thead th {\n",
       "        text-align: left;\n",
       "    }\n",
       "\n",
       "    .dataframe tbody tr th {\n",
       "        vertical-align: top;\n",
       "    }\n",
       "</style>\n",
       "<table border=\"1\" class=\"dataframe\">\n",
       "  <thead>\n",
       "    <tr style=\"text-align: right;\">\n",
       "      <th></th>\n",
       "      <th>1.Öğretim Üyesi</th>\n",
       "      <th>3.Gelir</th>\n",
       "    </tr>\n",
       "    <tr>\n",
       "      <th>2.Anabilim Dalı</th>\n",
       "      <th></th>\n",
       "      <th></th>\n",
       "    </tr>\n",
       "  </thead>\n",
       "  <tbody>\n",
       "    <tr>\n",
       "      <th>Finans</th>\n",
       "      <td>6</td>\n",
       "      <td>6</td>\n",
       "    </tr>\n",
       "    <tr>\n",
       "      <th>Muhasebe</th>\n",
       "      <td>4</td>\n",
       "      <td>4</td>\n",
       "    </tr>\n",
       "    <tr>\n",
       "      <th>Pazarlama</th>\n",
       "      <td>5</td>\n",
       "      <td>5</td>\n",
       "    </tr>\n",
       "    <tr>\n",
       "      <th>Yönetim ve Organizasyon</th>\n",
       "      <td>7</td>\n",
       "      <td>7</td>\n",
       "    </tr>\n",
       "    <tr>\n",
       "      <th>Üretim Yönetimi</th>\n",
       "      <td>3</td>\n",
       "      <td>3</td>\n",
       "    </tr>\n",
       "  </tbody>\n",
       "</table>\n",
       "</div>"
      ],
      "text/plain": [
       "                         1.Öğretim Üyesi  3.Gelir\n",
       "2.Anabilim Dalı                                  \n",
       "Finans                                 6        6\n",
       "Muhasebe                               4        4\n",
       "Pazarlama                              5        5\n",
       "Yönetim ve Organizasyon                7        7\n",
       "Üretim Yönetimi                        3        3"
      ]
     },
     "execution_count": 116,
     "metadata": {},
     "output_type": "execute_result"
    }
   ],
   "source": [
    "işletme_bölümü.groupby(\"2.Anabilim Dalı\").count() #Cevap 4"
   ]
  },
  {
   "cell_type": "code",
   "execution_count": 117,
   "metadata": {},
   "outputs": [
    {
     "data": {
      "text/html": [
       "<div>\n",
       "<style>\n",
       "    .dataframe thead tr:only-child th {\n",
       "        text-align: right;\n",
       "    }\n",
       "\n",
       "    .dataframe thead th {\n",
       "        text-align: left;\n",
       "    }\n",
       "\n",
       "    .dataframe tbody tr th {\n",
       "        vertical-align: top;\n",
       "    }\n",
       "</style>\n",
       "<table border=\"1\" class=\"dataframe\">\n",
       "  <thead>\n",
       "    <tr style=\"text-align: right;\">\n",
       "      <th></th>\n",
       "      <th>1.Öğretim Üyesi</th>\n",
       "      <th>3.Gelir</th>\n",
       "    </tr>\n",
       "    <tr>\n",
       "      <th>2.Anabilim Dalı</th>\n",
       "      <th></th>\n",
       "      <th></th>\n",
       "    </tr>\n",
       "  </thead>\n",
       "  <tbody>\n",
       "    <tr>\n",
       "      <th>Finans</th>\n",
       "      <td>Prof.Dr. Mehmet Saraç</td>\n",
       "      <td>10000</td>\n",
       "    </tr>\n",
       "    <tr>\n",
       "      <th>Muhasebe</th>\n",
       "      <td>Prof.Dr. Selahattin Karabınar</td>\n",
       "      <td>9000</td>\n",
       "    </tr>\n",
       "    <tr>\n",
       "      <th>Pazarlama</th>\n",
       "      <td>Öğr.Ü.Dr. Yaprak Burçak Boydak Öztaş</td>\n",
       "      <td>10000</td>\n",
       "    </tr>\n",
       "    <tr>\n",
       "      <th>Yönetim ve Organizasyon</th>\n",
       "      <td>Prof. Dr. Şebnem Arıkboğa</td>\n",
       "      <td>9000</td>\n",
       "    </tr>\n",
       "    <tr>\n",
       "      <th>Üretim Yönetimi</th>\n",
       "      <td>Prof.Dr. Halim Kazan</td>\n",
       "      <td>13000</td>\n",
       "    </tr>\n",
       "  </tbody>\n",
       "</table>\n",
       "</div>"
      ],
      "text/plain": [
       "                                              1.Öğretim Üyesi  3.Gelir\n",
       "2.Anabilim Dalı                                                       \n",
       "Finans                                  Prof.Dr. Mehmet Saraç    10000\n",
       "Muhasebe                        Prof.Dr. Selahattin Karabınar     9000\n",
       "Pazarlama                Öğr.Ü.Dr. Yaprak Burçak Boydak Öztaş    10000\n",
       "Yönetim ve Organizasyon             Prof. Dr. Şebnem Arıkboğa     9000\n",
       "Üretim Yönetimi                          Prof.Dr. Halim Kazan    13000"
      ]
     },
     "execution_count": 117,
     "metadata": {},
     "output_type": "execute_result"
    }
   ],
   "source": [
    "işletme_bölümü.groupby(\"2.Anabilim Dalı\").max() #Cevap 5"
   ]
  },
  {
   "cell_type": "code",
   "execution_count": 118,
   "metadata": {},
   "outputs": [
    {
     "data": {
      "text/plain": [
       "1.Öğretim Üyesi    Arş.Gör. Oğuzhan İrengün\n",
       "3.Gelir                                5000\n",
       "Name: Yönetim ve Organizasyon, dtype: object"
      ]
     },
     "execution_count": 118,
     "metadata": {},
     "output_type": "execute_result"
    }
   ],
   "source": [
    "işletme_bölümü.groupby(\"2.Anabilim Dalı\").min().loc[\"Yönetim ve Organizasyon\"] #Cevap 6"
   ]
  },
  {
   "cell_type": "code",
   "execution_count": 120,
   "metadata": {},
   "outputs": [
    {
     "data": {
      "text/plain": [
       "3.Gelir    6785.714286\n",
       "Name: Yönetim ve Organizasyon, dtype: float64"
      ]
     },
     "execution_count": 120,
     "metadata": {},
     "output_type": "execute_result"
    }
   ],
   "source": [
    "işletme_bölümü.groupby(\"2.Anabilim Dalı\").mean().loc[\"Yönetim ve Organizasyon\"] #Cevap 7"
   ]
  },
  {
   "cell_type": "markdown",
   "metadata": {},
   "source": [
    "### Merge, Join and Concatenate "
   ]
  },
  {
   "cell_type": "code",
   "execution_count": 121,
   "metadata": {
    "collapsed": true
   },
   "outputs": [],
   "source": [
    "# 1. Ekonometri anabilim dalını dataframe olarak tanımla\n",
    "# 2. İşletmenin altına ekle***\n",
    "# 3. İşletmenin yanına ekle\n",
    "# 4. SBF işletme bölümünü dataframe olarak tanımla\n",
    "# 5. İktisat işletme ve SBF işletmeyi birleştir; bunun için bir anabilim dalını anahtar olarak kullan\n",
    "# 6. Sütun değişkenleri farklı iki dataframe tanımla. Sırasıyla birbirlerine birleştir."
   ]
  },
  {
   "cell_type": "code",
   "execution_count": 122,
   "metadata": {
    "collapsed": true
   },
   "outputs": [],
   "source": [
    "işltm = {\n",
    "    \"Öğretim Üyesi\":[\"Prof.Dr. Halim Kazan\",\"Prof.Dr. Erdinç Altay\",\"Prof. Dr. Şebnem Arıkboğa\",\"Prof.Dr. Süphan Nasır\",\"Prof.Dr. Selahattin Karabınar\",\"Prof.Dr. Mehmet Saraç\",\"Doç.Dr. Duygu Anıl Keskin\",\"Doç.Dr. Mahmut Hızıroğlu\",\"Dr.Öğr.Ü. Arif Saldanlı\",\"Dr.Öğr.Ü. Burçay Yaşar Akçalı\",\"Dr.Öğr.Ü. Mehmet Sabri Topak\",\"Dr.Öğr.Ü. Elçin Şişmanoğlu\",\"Dr.Öğr.Ü. Zekeriya Emre Erkal\",\"Dr.Öğr.Ü. Hatice Anıl Değermen\",\"Öğr.Ü.Dr. Mehmet Baykal\",\"Öğr.Ü.Dr. Yaprak Burçak Boydak Öztaş\",\"Dr.Öğr.Ü. Bora Yıldız\",\"Dr.Öğr.Ü. Buket Akdöl\",\"Dr.Öğr.Ü. Ebru Doğan\",\"Dr.Öğr.Ü. Sema Yolaç\",\"Arş.Gör. Yiğit Yurder\",\"Arş.Gör. Sümeyra Uzun\",\"Arş. Gör. Serdar Semih Coşkun\",\"Arş.Gör. Oğuzhan İrengün\",\"Arş.Gör. Ahmet Çağlar Saygılı\"],\n",
    "    \"Anabilim Dalı\":[\"Üretim Yönetimi\",\"Finans\",\"Yönetim ve Organizasyon\",\"Pazarlama\",\"Muhasebe\",\"Finans\",\"Muhasebe\",\"Yönetim ve Organizasyon\",\"Finans\",\"Finans\",\"Finans\",\"Muhasebe\",\"Muhasebe\",\"Pazarlama\",\"Pazarlama\",\"Pazarlama\",\"Yönetim ve Organizasyon\",\"Yönetim ve Organizasyon\",\"Yönetim ve Organizasyon\",\"Yönetim ve Organizasyon\",\"Pazarlama\",\"Finans\",\"Üretim Yönetimi\",\"Yönetim ve Organizasyon\",\"Üretim Yönetimi\"],\n",
    "}"
   ]
  },
  {
   "cell_type": "code",
   "execution_count": 127,
   "metadata": {
    "collapsed": true
   },
   "outputs": [],
   "source": [
    "eknmtri = {\n",
    "    \"Öğretim Üyesi\":[\"Prof.Dr. Nilgün Çil\",\"Prof. Dr. Burak Güriş\",\"Prof.Dr. Ercan Sarıdoğan\",\"Prof. Dr. Ali Karun Nemlioğlu\",\"Prof.Dr. Handan Yolsal\",\"Prof.Dr. Mustafa Tekin\",\"Doç.Dr. Burcu Kıran\",\"Doç.Dr. Özlem Yorulmaz\",\"Doç.Dr. Aylin Aktütün\",\"Doç.Dr. Mehmet Hakan Satman\",\"Arş.Gör. Halil İbrahim Gündüz\",\"Arş. Gör. Hüseyin İçmez\",\"Arş.Gör. Nimet Melis Esenyel\",\"Arş. Gör. Haydar Ekelik\"],\n",
    "    \"Anabilim Dalı\":[\"Ekonometri\",\"Ekonometri\",\"İstatistik\",\"İstatistik\",\"Yöneylem\",\"Yöneylem\",\"Ekonometri\",\"İstatistik\",\"Yöneylem\",\"Yöneylem\",\"Ekonometri\",\"Ekonometri\",\"İstatistik\",\"Yöneylem\"]\n",
    "}"
   ]
  },
  {
   "cell_type": "code",
   "execution_count": 124,
   "metadata": {
    "collapsed": true
   },
   "outputs": [],
   "source": [
    "işletme_bölüm = pd.DataFrame(işltm)"
   ]
  },
  {
   "cell_type": "code",
   "execution_count": 128,
   "metadata": {
    "collapsed": true
   },
   "outputs": [],
   "source": [
    "ekonometri_bölüm = pd.DataFrame(eknmtri)"
   ]
  },
  {
   "cell_type": "code",
   "execution_count": 129,
   "metadata": {},
   "outputs": [
    {
     "data": {
      "text/html": [
       "<div>\n",
       "<style>\n",
       "    .dataframe thead tr:only-child th {\n",
       "        text-align: right;\n",
       "    }\n",
       "\n",
       "    .dataframe thead th {\n",
       "        text-align: left;\n",
       "    }\n",
       "\n",
       "    .dataframe tbody tr th {\n",
       "        vertical-align: top;\n",
       "    }\n",
       "</style>\n",
       "<table border=\"1\" class=\"dataframe\">\n",
       "  <thead>\n",
       "    <tr style=\"text-align: right;\">\n",
       "      <th></th>\n",
       "      <th>Anabilim Dalı</th>\n",
       "      <th>Öğretim Üyesi</th>\n",
       "    </tr>\n",
       "  </thead>\n",
       "  <tbody>\n",
       "    <tr>\n",
       "      <th>0</th>\n",
       "      <td>Üretim Yönetimi</td>\n",
       "      <td>Prof.Dr. Halim Kazan</td>\n",
       "    </tr>\n",
       "    <tr>\n",
       "      <th>1</th>\n",
       "      <td>Finans</td>\n",
       "      <td>Prof.Dr. Erdinç Altay</td>\n",
       "    </tr>\n",
       "    <tr>\n",
       "      <th>2</th>\n",
       "      <td>Yönetim ve Organizasyon</td>\n",
       "      <td>Prof. Dr. Şebnem Arıkboğa</td>\n",
       "    </tr>\n",
       "    <tr>\n",
       "      <th>3</th>\n",
       "      <td>Pazarlama</td>\n",
       "      <td>Prof.Dr. Süphan Nasır</td>\n",
       "    </tr>\n",
       "    <tr>\n",
       "      <th>4</th>\n",
       "      <td>Muhasebe</td>\n",
       "      <td>Prof.Dr. Selahattin Karabınar</td>\n",
       "    </tr>\n",
       "    <tr>\n",
       "      <th>5</th>\n",
       "      <td>Finans</td>\n",
       "      <td>Prof.Dr. Mehmet Saraç</td>\n",
       "    </tr>\n",
       "    <tr>\n",
       "      <th>6</th>\n",
       "      <td>Muhasebe</td>\n",
       "      <td>Doç.Dr. Duygu Anıl Keskin</td>\n",
       "    </tr>\n",
       "    <tr>\n",
       "      <th>7</th>\n",
       "      <td>Yönetim ve Organizasyon</td>\n",
       "      <td>Doç.Dr. Mahmut Hızıroğlu</td>\n",
       "    </tr>\n",
       "    <tr>\n",
       "      <th>8</th>\n",
       "      <td>Finans</td>\n",
       "      <td>Dr.Öğr.Ü. Arif Saldanlı</td>\n",
       "    </tr>\n",
       "    <tr>\n",
       "      <th>9</th>\n",
       "      <td>Finans</td>\n",
       "      <td>Dr.Öğr.Ü. Burçay Yaşar Akçalı</td>\n",
       "    </tr>\n",
       "    <tr>\n",
       "      <th>10</th>\n",
       "      <td>Finans</td>\n",
       "      <td>Dr.Öğr.Ü. Mehmet Sabri Topak</td>\n",
       "    </tr>\n",
       "    <tr>\n",
       "      <th>11</th>\n",
       "      <td>Muhasebe</td>\n",
       "      <td>Dr.Öğr.Ü. Elçin Şişmanoğlu</td>\n",
       "    </tr>\n",
       "    <tr>\n",
       "      <th>12</th>\n",
       "      <td>Muhasebe</td>\n",
       "      <td>Dr.Öğr.Ü. Zekeriya Emre Erkal</td>\n",
       "    </tr>\n",
       "    <tr>\n",
       "      <th>13</th>\n",
       "      <td>Pazarlama</td>\n",
       "      <td>Dr.Öğr.Ü. Hatice Anıl Değermen</td>\n",
       "    </tr>\n",
       "    <tr>\n",
       "      <th>14</th>\n",
       "      <td>Pazarlama</td>\n",
       "      <td>Öğr.Ü.Dr. Mehmet Baykal</td>\n",
       "    </tr>\n",
       "    <tr>\n",
       "      <th>15</th>\n",
       "      <td>Pazarlama</td>\n",
       "      <td>Öğr.Ü.Dr. Yaprak Burçak Boydak Öztaş</td>\n",
       "    </tr>\n",
       "    <tr>\n",
       "      <th>16</th>\n",
       "      <td>Yönetim ve Organizasyon</td>\n",
       "      <td>Dr.Öğr.Ü. Bora Yıldız</td>\n",
       "    </tr>\n",
       "    <tr>\n",
       "      <th>17</th>\n",
       "      <td>Yönetim ve Organizasyon</td>\n",
       "      <td>Dr.Öğr.Ü. Buket Akdöl</td>\n",
       "    </tr>\n",
       "    <tr>\n",
       "      <th>18</th>\n",
       "      <td>Yönetim ve Organizasyon</td>\n",
       "      <td>Dr.Öğr.Ü. Ebru Doğan</td>\n",
       "    </tr>\n",
       "    <tr>\n",
       "      <th>19</th>\n",
       "      <td>Yönetim ve Organizasyon</td>\n",
       "      <td>Dr.Öğr.Ü. Sema Yolaç</td>\n",
       "    </tr>\n",
       "    <tr>\n",
       "      <th>20</th>\n",
       "      <td>Pazarlama</td>\n",
       "      <td>Arş.Gör. Yiğit Yurder</td>\n",
       "    </tr>\n",
       "    <tr>\n",
       "      <th>21</th>\n",
       "      <td>Finans</td>\n",
       "      <td>Arş.Gör. Sümeyra Uzun</td>\n",
       "    </tr>\n",
       "    <tr>\n",
       "      <th>22</th>\n",
       "      <td>Üretim Yönetimi</td>\n",
       "      <td>Arş. Gör. Serdar Semih Coşkun</td>\n",
       "    </tr>\n",
       "    <tr>\n",
       "      <th>23</th>\n",
       "      <td>Yönetim ve Organizasyon</td>\n",
       "      <td>Arş.Gör. Oğuzhan İrengün</td>\n",
       "    </tr>\n",
       "    <tr>\n",
       "      <th>24</th>\n",
       "      <td>Üretim Yönetimi</td>\n",
       "      <td>Arş.Gör. Ahmet Çağlar Saygılı</td>\n",
       "    </tr>\n",
       "  </tbody>\n",
       "</table>\n",
       "</div>"
      ],
      "text/plain": [
       "              Anabilim Dalı                         Öğretim Üyesi\n",
       "0           Üretim Yönetimi                  Prof.Dr. Halim Kazan\n",
       "1                    Finans                 Prof.Dr. Erdinç Altay\n",
       "2   Yönetim ve Organizasyon             Prof. Dr. Şebnem Arıkboğa\n",
       "3                 Pazarlama                 Prof.Dr. Süphan Nasır\n",
       "4                  Muhasebe         Prof.Dr. Selahattin Karabınar\n",
       "5                    Finans                 Prof.Dr. Mehmet Saraç\n",
       "6                  Muhasebe             Doç.Dr. Duygu Anıl Keskin\n",
       "7   Yönetim ve Organizasyon              Doç.Dr. Mahmut Hızıroğlu\n",
       "8                    Finans               Dr.Öğr.Ü. Arif Saldanlı\n",
       "9                    Finans         Dr.Öğr.Ü. Burçay Yaşar Akçalı\n",
       "10                   Finans          Dr.Öğr.Ü. Mehmet Sabri Topak\n",
       "11                 Muhasebe            Dr.Öğr.Ü. Elçin Şişmanoğlu\n",
       "12                 Muhasebe         Dr.Öğr.Ü. Zekeriya Emre Erkal\n",
       "13                Pazarlama        Dr.Öğr.Ü. Hatice Anıl Değermen\n",
       "14                Pazarlama               Öğr.Ü.Dr. Mehmet Baykal\n",
       "15                Pazarlama  Öğr.Ü.Dr. Yaprak Burçak Boydak Öztaş\n",
       "16  Yönetim ve Organizasyon                 Dr.Öğr.Ü. Bora Yıldız\n",
       "17  Yönetim ve Organizasyon                 Dr.Öğr.Ü. Buket Akdöl\n",
       "18  Yönetim ve Organizasyon                  Dr.Öğr.Ü. Ebru Doğan\n",
       "19  Yönetim ve Organizasyon                  Dr.Öğr.Ü. Sema Yolaç\n",
       "20                Pazarlama                 Arş.Gör. Yiğit Yurder\n",
       "21                   Finans                 Arş.Gör. Sümeyra Uzun\n",
       "22          Üretim Yönetimi         Arş. Gör. Serdar Semih Coşkun\n",
       "23  Yönetim ve Organizasyon              Arş.Gör. Oğuzhan İrengün\n",
       "24          Üretim Yönetimi         Arş.Gör. Ahmet Çağlar Saygılı"
      ]
     },
     "execution_count": 129,
     "metadata": {},
     "output_type": "execute_result"
    }
   ],
   "source": [
    "işletme_bölüm"
   ]
  },
  {
   "cell_type": "code",
   "execution_count": 130,
   "metadata": {},
   "outputs": [
    {
     "data": {
      "text/html": [
       "<div>\n",
       "<style>\n",
       "    .dataframe thead tr:only-child th {\n",
       "        text-align: right;\n",
       "    }\n",
       "\n",
       "    .dataframe thead th {\n",
       "        text-align: left;\n",
       "    }\n",
       "\n",
       "    .dataframe tbody tr th {\n",
       "        vertical-align: top;\n",
       "    }\n",
       "</style>\n",
       "<table border=\"1\" class=\"dataframe\">\n",
       "  <thead>\n",
       "    <tr style=\"text-align: right;\">\n",
       "      <th></th>\n",
       "      <th>Anabilim Dalı</th>\n",
       "      <th>Öğretim Üyesi</th>\n",
       "    </tr>\n",
       "  </thead>\n",
       "  <tbody>\n",
       "    <tr>\n",
       "      <th>0</th>\n",
       "      <td>Ekonometri</td>\n",
       "      <td>Prof.Dr. Nilgün Çil</td>\n",
       "    </tr>\n",
       "    <tr>\n",
       "      <th>1</th>\n",
       "      <td>Ekonometri</td>\n",
       "      <td>Prof. Dr. Burak Güriş</td>\n",
       "    </tr>\n",
       "    <tr>\n",
       "      <th>2</th>\n",
       "      <td>İstatistik</td>\n",
       "      <td>Prof.Dr. Ercan Sarıdoğan</td>\n",
       "    </tr>\n",
       "    <tr>\n",
       "      <th>3</th>\n",
       "      <td>İstatistik</td>\n",
       "      <td>Prof. Dr. Ali Karun Nemlioğlu</td>\n",
       "    </tr>\n",
       "    <tr>\n",
       "      <th>4</th>\n",
       "      <td>Yöneylem</td>\n",
       "      <td>Prof.Dr. Handan Yolsal</td>\n",
       "    </tr>\n",
       "    <tr>\n",
       "      <th>5</th>\n",
       "      <td>Yöneylem</td>\n",
       "      <td>Prof.Dr. Mustafa Tekin</td>\n",
       "    </tr>\n",
       "    <tr>\n",
       "      <th>6</th>\n",
       "      <td>Ekonometri</td>\n",
       "      <td>Doç.Dr. Burcu Kıran</td>\n",
       "    </tr>\n",
       "    <tr>\n",
       "      <th>7</th>\n",
       "      <td>İstatistik</td>\n",
       "      <td>Doç.Dr. Özlem Yorulmaz</td>\n",
       "    </tr>\n",
       "    <tr>\n",
       "      <th>8</th>\n",
       "      <td>Yöneylem</td>\n",
       "      <td>Doç.Dr. Aylin Aktütün</td>\n",
       "    </tr>\n",
       "    <tr>\n",
       "      <th>9</th>\n",
       "      <td>Yöneylem</td>\n",
       "      <td>Doç.Dr. Mehmet Hakan Satman</td>\n",
       "    </tr>\n",
       "    <tr>\n",
       "      <th>10</th>\n",
       "      <td>Ekonometri</td>\n",
       "      <td>Arş.Gör. Halil İbrahim Gündüz</td>\n",
       "    </tr>\n",
       "    <tr>\n",
       "      <th>11</th>\n",
       "      <td>Ekonometri</td>\n",
       "      <td>Arş. Gör. Hüseyin İçmez</td>\n",
       "    </tr>\n",
       "    <tr>\n",
       "      <th>12</th>\n",
       "      <td>İstatistik</td>\n",
       "      <td>Arş.Gör. Nimet Melis Esenyel</td>\n",
       "    </tr>\n",
       "    <tr>\n",
       "      <th>13</th>\n",
       "      <td>Yöneylem</td>\n",
       "      <td>Arş. Gör. Haydar Ekelik</td>\n",
       "    </tr>\n",
       "  </tbody>\n",
       "</table>\n",
       "</div>"
      ],
      "text/plain": [
       "   Anabilim Dalı                  Öğretim Üyesi\n",
       "0     Ekonometri            Prof.Dr. Nilgün Çil\n",
       "1     Ekonometri          Prof. Dr. Burak Güriş\n",
       "2     İstatistik       Prof.Dr. Ercan Sarıdoğan\n",
       "3     İstatistik  Prof. Dr. Ali Karun Nemlioğlu\n",
       "4       Yöneylem         Prof.Dr. Handan Yolsal\n",
       "5       Yöneylem         Prof.Dr. Mustafa Tekin\n",
       "6     Ekonometri            Doç.Dr. Burcu Kıran\n",
       "7     İstatistik         Doç.Dr. Özlem Yorulmaz\n",
       "8       Yöneylem          Doç.Dr. Aylin Aktütün\n",
       "9       Yöneylem    Doç.Dr. Mehmet Hakan Satman\n",
       "10    Ekonometri  Arş.Gör. Halil İbrahim Gündüz\n",
       "11    Ekonometri        Arş. Gör. Hüseyin İçmez\n",
       "12    İstatistik   Arş.Gör. Nimet Melis Esenyel\n",
       "13      Yöneylem        Arş. Gör. Haydar Ekelik"
      ]
     },
     "execution_count": 130,
     "metadata": {},
     "output_type": "execute_result"
    }
   ],
   "source": [
    "ekonometri_bölüm #Cevap 1"
   ]
  },
  {
   "cell_type": "code",
   "execution_count": 133,
   "metadata": {},
   "outputs": [
    {
     "data": {
      "text/html": [
       "<div>\n",
       "<style>\n",
       "    .dataframe thead tr:only-child th {\n",
       "        text-align: right;\n",
       "    }\n",
       "\n",
       "    .dataframe thead th {\n",
       "        text-align: left;\n",
       "    }\n",
       "\n",
       "    .dataframe tbody tr th {\n",
       "        vertical-align: top;\n",
       "    }\n",
       "</style>\n",
       "<table border=\"1\" class=\"dataframe\">\n",
       "  <thead>\n",
       "    <tr style=\"text-align: right;\">\n",
       "      <th></th>\n",
       "      <th>Anabilim Dalı</th>\n",
       "      <th>Öğretim Üyesi</th>\n",
       "    </tr>\n",
       "  </thead>\n",
       "  <tbody>\n",
       "    <tr>\n",
       "      <th>0</th>\n",
       "      <td>Üretim Yönetimi</td>\n",
       "      <td>Prof.Dr. Halim Kazan</td>\n",
       "    </tr>\n",
       "    <tr>\n",
       "      <th>1</th>\n",
       "      <td>Finans</td>\n",
       "      <td>Prof.Dr. Erdinç Altay</td>\n",
       "    </tr>\n",
       "    <tr>\n",
       "      <th>2</th>\n",
       "      <td>Yönetim ve Organizasyon</td>\n",
       "      <td>Prof. Dr. Şebnem Arıkboğa</td>\n",
       "    </tr>\n",
       "    <tr>\n",
       "      <th>3</th>\n",
       "      <td>Pazarlama</td>\n",
       "      <td>Prof.Dr. Süphan Nasır</td>\n",
       "    </tr>\n",
       "    <tr>\n",
       "      <th>4</th>\n",
       "      <td>Muhasebe</td>\n",
       "      <td>Prof.Dr. Selahattin Karabınar</td>\n",
       "    </tr>\n",
       "    <tr>\n",
       "      <th>5</th>\n",
       "      <td>Finans</td>\n",
       "      <td>Prof.Dr. Mehmet Saraç</td>\n",
       "    </tr>\n",
       "    <tr>\n",
       "      <th>6</th>\n",
       "      <td>Muhasebe</td>\n",
       "      <td>Doç.Dr. Duygu Anıl Keskin</td>\n",
       "    </tr>\n",
       "    <tr>\n",
       "      <th>7</th>\n",
       "      <td>Yönetim ve Organizasyon</td>\n",
       "      <td>Doç.Dr. Mahmut Hızıroğlu</td>\n",
       "    </tr>\n",
       "    <tr>\n",
       "      <th>8</th>\n",
       "      <td>Finans</td>\n",
       "      <td>Dr.Öğr.Ü. Arif Saldanlı</td>\n",
       "    </tr>\n",
       "    <tr>\n",
       "      <th>9</th>\n",
       "      <td>Finans</td>\n",
       "      <td>Dr.Öğr.Ü. Burçay Yaşar Akçalı</td>\n",
       "    </tr>\n",
       "    <tr>\n",
       "      <th>10</th>\n",
       "      <td>Finans</td>\n",
       "      <td>Dr.Öğr.Ü. Mehmet Sabri Topak</td>\n",
       "    </tr>\n",
       "    <tr>\n",
       "      <th>11</th>\n",
       "      <td>Muhasebe</td>\n",
       "      <td>Dr.Öğr.Ü. Elçin Şişmanoğlu</td>\n",
       "    </tr>\n",
       "    <tr>\n",
       "      <th>12</th>\n",
       "      <td>Muhasebe</td>\n",
       "      <td>Dr.Öğr.Ü. Zekeriya Emre Erkal</td>\n",
       "    </tr>\n",
       "    <tr>\n",
       "      <th>13</th>\n",
       "      <td>Pazarlama</td>\n",
       "      <td>Dr.Öğr.Ü. Hatice Anıl Değermen</td>\n",
       "    </tr>\n",
       "    <tr>\n",
       "      <th>14</th>\n",
       "      <td>Pazarlama</td>\n",
       "      <td>Öğr.Ü.Dr. Mehmet Baykal</td>\n",
       "    </tr>\n",
       "    <tr>\n",
       "      <th>15</th>\n",
       "      <td>Pazarlama</td>\n",
       "      <td>Öğr.Ü.Dr. Yaprak Burçak Boydak Öztaş</td>\n",
       "    </tr>\n",
       "    <tr>\n",
       "      <th>16</th>\n",
       "      <td>Yönetim ve Organizasyon</td>\n",
       "      <td>Dr.Öğr.Ü. Bora Yıldız</td>\n",
       "    </tr>\n",
       "    <tr>\n",
       "      <th>17</th>\n",
       "      <td>Yönetim ve Organizasyon</td>\n",
       "      <td>Dr.Öğr.Ü. Buket Akdöl</td>\n",
       "    </tr>\n",
       "    <tr>\n",
       "      <th>18</th>\n",
       "      <td>Yönetim ve Organizasyon</td>\n",
       "      <td>Dr.Öğr.Ü. Ebru Doğan</td>\n",
       "    </tr>\n",
       "    <tr>\n",
       "      <th>19</th>\n",
       "      <td>Yönetim ve Organizasyon</td>\n",
       "      <td>Dr.Öğr.Ü. Sema Yolaç</td>\n",
       "    </tr>\n",
       "    <tr>\n",
       "      <th>20</th>\n",
       "      <td>Pazarlama</td>\n",
       "      <td>Arş.Gör. Yiğit Yurder</td>\n",
       "    </tr>\n",
       "    <tr>\n",
       "      <th>21</th>\n",
       "      <td>Finans</td>\n",
       "      <td>Arş.Gör. Sümeyra Uzun</td>\n",
       "    </tr>\n",
       "    <tr>\n",
       "      <th>22</th>\n",
       "      <td>Üretim Yönetimi</td>\n",
       "      <td>Arş. Gör. Serdar Semih Coşkun</td>\n",
       "    </tr>\n",
       "    <tr>\n",
       "      <th>23</th>\n",
       "      <td>Yönetim ve Organizasyon</td>\n",
       "      <td>Arş.Gör. Oğuzhan İrengün</td>\n",
       "    </tr>\n",
       "    <tr>\n",
       "      <th>24</th>\n",
       "      <td>Üretim Yönetimi</td>\n",
       "      <td>Arş.Gör. Ahmet Çağlar Saygılı</td>\n",
       "    </tr>\n",
       "    <tr>\n",
       "      <th>0</th>\n",
       "      <td>Ekonometri</td>\n",
       "      <td>Prof.Dr. Nilgün Çil</td>\n",
       "    </tr>\n",
       "    <tr>\n",
       "      <th>1</th>\n",
       "      <td>Ekonometri</td>\n",
       "      <td>Prof. Dr. Burak Güriş</td>\n",
       "    </tr>\n",
       "    <tr>\n",
       "      <th>2</th>\n",
       "      <td>İstatistik</td>\n",
       "      <td>Prof.Dr. Ercan Sarıdoğan</td>\n",
       "    </tr>\n",
       "    <tr>\n",
       "      <th>3</th>\n",
       "      <td>İstatistik</td>\n",
       "      <td>Prof. Dr. Ali Karun Nemlioğlu</td>\n",
       "    </tr>\n",
       "    <tr>\n",
       "      <th>4</th>\n",
       "      <td>Yöneylem</td>\n",
       "      <td>Prof.Dr. Handan Yolsal</td>\n",
       "    </tr>\n",
       "    <tr>\n",
       "      <th>5</th>\n",
       "      <td>Yöneylem</td>\n",
       "      <td>Prof.Dr. Mustafa Tekin</td>\n",
       "    </tr>\n",
       "    <tr>\n",
       "      <th>6</th>\n",
       "      <td>Ekonometri</td>\n",
       "      <td>Doç.Dr. Burcu Kıran</td>\n",
       "    </tr>\n",
       "    <tr>\n",
       "      <th>7</th>\n",
       "      <td>İstatistik</td>\n",
       "      <td>Doç.Dr. Özlem Yorulmaz</td>\n",
       "    </tr>\n",
       "    <tr>\n",
       "      <th>8</th>\n",
       "      <td>Yöneylem</td>\n",
       "      <td>Doç.Dr. Aylin Aktütün</td>\n",
       "    </tr>\n",
       "    <tr>\n",
       "      <th>9</th>\n",
       "      <td>Yöneylem</td>\n",
       "      <td>Doç.Dr. Mehmet Hakan Satman</td>\n",
       "    </tr>\n",
       "    <tr>\n",
       "      <th>10</th>\n",
       "      <td>Ekonometri</td>\n",
       "      <td>Arş.Gör. Halil İbrahim Gündüz</td>\n",
       "    </tr>\n",
       "    <tr>\n",
       "      <th>11</th>\n",
       "      <td>Ekonometri</td>\n",
       "      <td>Arş. Gör. Hüseyin İçmez</td>\n",
       "    </tr>\n",
       "    <tr>\n",
       "      <th>12</th>\n",
       "      <td>İstatistik</td>\n",
       "      <td>Arş.Gör. Nimet Melis Esenyel</td>\n",
       "    </tr>\n",
       "    <tr>\n",
       "      <th>13</th>\n",
       "      <td>Yöneylem</td>\n",
       "      <td>Arş. Gör. Haydar Ekelik</td>\n",
       "    </tr>\n",
       "  </tbody>\n",
       "</table>\n",
       "</div>"
      ],
      "text/plain": [
       "              Anabilim Dalı                         Öğretim Üyesi\n",
       "0           Üretim Yönetimi                  Prof.Dr. Halim Kazan\n",
       "1                    Finans                 Prof.Dr. Erdinç Altay\n",
       "2   Yönetim ve Organizasyon             Prof. Dr. Şebnem Arıkboğa\n",
       "3                 Pazarlama                 Prof.Dr. Süphan Nasır\n",
       "4                  Muhasebe         Prof.Dr. Selahattin Karabınar\n",
       "5                    Finans                 Prof.Dr. Mehmet Saraç\n",
       "6                  Muhasebe             Doç.Dr. Duygu Anıl Keskin\n",
       "7   Yönetim ve Organizasyon              Doç.Dr. Mahmut Hızıroğlu\n",
       "8                    Finans               Dr.Öğr.Ü. Arif Saldanlı\n",
       "9                    Finans         Dr.Öğr.Ü. Burçay Yaşar Akçalı\n",
       "10                   Finans          Dr.Öğr.Ü. Mehmet Sabri Topak\n",
       "11                 Muhasebe            Dr.Öğr.Ü. Elçin Şişmanoğlu\n",
       "12                 Muhasebe         Dr.Öğr.Ü. Zekeriya Emre Erkal\n",
       "13                Pazarlama        Dr.Öğr.Ü. Hatice Anıl Değermen\n",
       "14                Pazarlama               Öğr.Ü.Dr. Mehmet Baykal\n",
       "15                Pazarlama  Öğr.Ü.Dr. Yaprak Burçak Boydak Öztaş\n",
       "16  Yönetim ve Organizasyon                 Dr.Öğr.Ü. Bora Yıldız\n",
       "17  Yönetim ve Organizasyon                 Dr.Öğr.Ü. Buket Akdöl\n",
       "18  Yönetim ve Organizasyon                  Dr.Öğr.Ü. Ebru Doğan\n",
       "19  Yönetim ve Organizasyon                  Dr.Öğr.Ü. Sema Yolaç\n",
       "20                Pazarlama                 Arş.Gör. Yiğit Yurder\n",
       "21                   Finans                 Arş.Gör. Sümeyra Uzun\n",
       "22          Üretim Yönetimi         Arş. Gör. Serdar Semih Coşkun\n",
       "23  Yönetim ve Organizasyon              Arş.Gör. Oğuzhan İrengün\n",
       "24          Üretim Yönetimi         Arş.Gör. Ahmet Çağlar Saygılı\n",
       "0                Ekonometri                   Prof.Dr. Nilgün Çil\n",
       "1                Ekonometri                 Prof. Dr. Burak Güriş\n",
       "2                İstatistik              Prof.Dr. Ercan Sarıdoğan\n",
       "3                İstatistik         Prof. Dr. Ali Karun Nemlioğlu\n",
       "4                  Yöneylem                Prof.Dr. Handan Yolsal\n",
       "5                  Yöneylem                Prof.Dr. Mustafa Tekin\n",
       "6                Ekonometri                   Doç.Dr. Burcu Kıran\n",
       "7                İstatistik                Doç.Dr. Özlem Yorulmaz\n",
       "8                  Yöneylem                 Doç.Dr. Aylin Aktütün\n",
       "9                  Yöneylem           Doç.Dr. Mehmet Hakan Satman\n",
       "10               Ekonometri         Arş.Gör. Halil İbrahim Gündüz\n",
       "11               Ekonometri               Arş. Gör. Hüseyin İçmez\n",
       "12               İstatistik          Arş.Gör. Nimet Melis Esenyel\n",
       "13                 Yöneylem               Arş. Gör. Haydar Ekelik"
      ]
     },
     "execution_count": 133,
     "metadata": {},
     "output_type": "execute_result"
    }
   ],
   "source": [
    "pd.concat([işletme_bölüm,ekonometri_bölüm]) #Cevap 2"
   ]
  },
  {
   "cell_type": "code",
   "execution_count": 134,
   "metadata": {},
   "outputs": [
    {
     "data": {
      "text/html": [
       "<div>\n",
       "<style>\n",
       "    .dataframe thead tr:only-child th {\n",
       "        text-align: right;\n",
       "    }\n",
       "\n",
       "    .dataframe thead th {\n",
       "        text-align: left;\n",
       "    }\n",
       "\n",
       "    .dataframe tbody tr th {\n",
       "        vertical-align: top;\n",
       "    }\n",
       "</style>\n",
       "<table border=\"1\" class=\"dataframe\">\n",
       "  <thead>\n",
       "    <tr style=\"text-align: right;\">\n",
       "      <th></th>\n",
       "      <th>Anabilim Dalı</th>\n",
       "      <th>Öğretim Üyesi</th>\n",
       "      <th>Anabilim Dalı</th>\n",
       "      <th>Öğretim Üyesi</th>\n",
       "    </tr>\n",
       "  </thead>\n",
       "  <tbody>\n",
       "    <tr>\n",
       "      <th>0</th>\n",
       "      <td>Üretim Yönetimi</td>\n",
       "      <td>Prof.Dr. Halim Kazan</td>\n",
       "      <td>Ekonometri</td>\n",
       "      <td>Prof.Dr. Nilgün Çil</td>\n",
       "    </tr>\n",
       "    <tr>\n",
       "      <th>1</th>\n",
       "      <td>Finans</td>\n",
       "      <td>Prof.Dr. Erdinç Altay</td>\n",
       "      <td>Ekonometri</td>\n",
       "      <td>Prof. Dr. Burak Güriş</td>\n",
       "    </tr>\n",
       "    <tr>\n",
       "      <th>2</th>\n",
       "      <td>Yönetim ve Organizasyon</td>\n",
       "      <td>Prof. Dr. Şebnem Arıkboğa</td>\n",
       "      <td>İstatistik</td>\n",
       "      <td>Prof.Dr. Ercan Sarıdoğan</td>\n",
       "    </tr>\n",
       "    <tr>\n",
       "      <th>3</th>\n",
       "      <td>Pazarlama</td>\n",
       "      <td>Prof.Dr. Süphan Nasır</td>\n",
       "      <td>İstatistik</td>\n",
       "      <td>Prof. Dr. Ali Karun Nemlioğlu</td>\n",
       "    </tr>\n",
       "    <tr>\n",
       "      <th>4</th>\n",
       "      <td>Muhasebe</td>\n",
       "      <td>Prof.Dr. Selahattin Karabınar</td>\n",
       "      <td>Yöneylem</td>\n",
       "      <td>Prof.Dr. Handan Yolsal</td>\n",
       "    </tr>\n",
       "    <tr>\n",
       "      <th>5</th>\n",
       "      <td>Finans</td>\n",
       "      <td>Prof.Dr. Mehmet Saraç</td>\n",
       "      <td>Yöneylem</td>\n",
       "      <td>Prof.Dr. Mustafa Tekin</td>\n",
       "    </tr>\n",
       "    <tr>\n",
       "      <th>6</th>\n",
       "      <td>Muhasebe</td>\n",
       "      <td>Doç.Dr. Duygu Anıl Keskin</td>\n",
       "      <td>Ekonometri</td>\n",
       "      <td>Doç.Dr. Burcu Kıran</td>\n",
       "    </tr>\n",
       "    <tr>\n",
       "      <th>7</th>\n",
       "      <td>Yönetim ve Organizasyon</td>\n",
       "      <td>Doç.Dr. Mahmut Hızıroğlu</td>\n",
       "      <td>İstatistik</td>\n",
       "      <td>Doç.Dr. Özlem Yorulmaz</td>\n",
       "    </tr>\n",
       "    <tr>\n",
       "      <th>8</th>\n",
       "      <td>Finans</td>\n",
       "      <td>Dr.Öğr.Ü. Arif Saldanlı</td>\n",
       "      <td>Yöneylem</td>\n",
       "      <td>Doç.Dr. Aylin Aktütün</td>\n",
       "    </tr>\n",
       "    <tr>\n",
       "      <th>9</th>\n",
       "      <td>Finans</td>\n",
       "      <td>Dr.Öğr.Ü. Burçay Yaşar Akçalı</td>\n",
       "      <td>Yöneylem</td>\n",
       "      <td>Doç.Dr. Mehmet Hakan Satman</td>\n",
       "    </tr>\n",
       "    <tr>\n",
       "      <th>10</th>\n",
       "      <td>Finans</td>\n",
       "      <td>Dr.Öğr.Ü. Mehmet Sabri Topak</td>\n",
       "      <td>Ekonometri</td>\n",
       "      <td>Arş.Gör. Halil İbrahim Gündüz</td>\n",
       "    </tr>\n",
       "    <tr>\n",
       "      <th>11</th>\n",
       "      <td>Muhasebe</td>\n",
       "      <td>Dr.Öğr.Ü. Elçin Şişmanoğlu</td>\n",
       "      <td>Ekonometri</td>\n",
       "      <td>Arş. Gör. Hüseyin İçmez</td>\n",
       "    </tr>\n",
       "    <tr>\n",
       "      <th>12</th>\n",
       "      <td>Muhasebe</td>\n",
       "      <td>Dr.Öğr.Ü. Zekeriya Emre Erkal</td>\n",
       "      <td>İstatistik</td>\n",
       "      <td>Arş.Gör. Nimet Melis Esenyel</td>\n",
       "    </tr>\n",
       "    <tr>\n",
       "      <th>13</th>\n",
       "      <td>Pazarlama</td>\n",
       "      <td>Dr.Öğr.Ü. Hatice Anıl Değermen</td>\n",
       "      <td>Yöneylem</td>\n",
       "      <td>Arş. Gör. Haydar Ekelik</td>\n",
       "    </tr>\n",
       "    <tr>\n",
       "      <th>14</th>\n",
       "      <td>Pazarlama</td>\n",
       "      <td>Öğr.Ü.Dr. Mehmet Baykal</td>\n",
       "      <td>NaN</td>\n",
       "      <td>NaN</td>\n",
       "    </tr>\n",
       "    <tr>\n",
       "      <th>15</th>\n",
       "      <td>Pazarlama</td>\n",
       "      <td>Öğr.Ü.Dr. Yaprak Burçak Boydak Öztaş</td>\n",
       "      <td>NaN</td>\n",
       "      <td>NaN</td>\n",
       "    </tr>\n",
       "    <tr>\n",
       "      <th>16</th>\n",
       "      <td>Yönetim ve Organizasyon</td>\n",
       "      <td>Dr.Öğr.Ü. Bora Yıldız</td>\n",
       "      <td>NaN</td>\n",
       "      <td>NaN</td>\n",
       "    </tr>\n",
       "    <tr>\n",
       "      <th>17</th>\n",
       "      <td>Yönetim ve Organizasyon</td>\n",
       "      <td>Dr.Öğr.Ü. Buket Akdöl</td>\n",
       "      <td>NaN</td>\n",
       "      <td>NaN</td>\n",
       "    </tr>\n",
       "    <tr>\n",
       "      <th>18</th>\n",
       "      <td>Yönetim ve Organizasyon</td>\n",
       "      <td>Dr.Öğr.Ü. Ebru Doğan</td>\n",
       "      <td>NaN</td>\n",
       "      <td>NaN</td>\n",
       "    </tr>\n",
       "    <tr>\n",
       "      <th>19</th>\n",
       "      <td>Yönetim ve Organizasyon</td>\n",
       "      <td>Dr.Öğr.Ü. Sema Yolaç</td>\n",
       "      <td>NaN</td>\n",
       "      <td>NaN</td>\n",
       "    </tr>\n",
       "    <tr>\n",
       "      <th>20</th>\n",
       "      <td>Pazarlama</td>\n",
       "      <td>Arş.Gör. Yiğit Yurder</td>\n",
       "      <td>NaN</td>\n",
       "      <td>NaN</td>\n",
       "    </tr>\n",
       "    <tr>\n",
       "      <th>21</th>\n",
       "      <td>Finans</td>\n",
       "      <td>Arş.Gör. Sümeyra Uzun</td>\n",
       "      <td>NaN</td>\n",
       "      <td>NaN</td>\n",
       "    </tr>\n",
       "    <tr>\n",
       "      <th>22</th>\n",
       "      <td>Üretim Yönetimi</td>\n",
       "      <td>Arş. Gör. Serdar Semih Coşkun</td>\n",
       "      <td>NaN</td>\n",
       "      <td>NaN</td>\n",
       "    </tr>\n",
       "    <tr>\n",
       "      <th>23</th>\n",
       "      <td>Yönetim ve Organizasyon</td>\n",
       "      <td>Arş.Gör. Oğuzhan İrengün</td>\n",
       "      <td>NaN</td>\n",
       "      <td>NaN</td>\n",
       "    </tr>\n",
       "    <tr>\n",
       "      <th>24</th>\n",
       "      <td>Üretim Yönetimi</td>\n",
       "      <td>Arş.Gör. Ahmet Çağlar Saygılı</td>\n",
       "      <td>NaN</td>\n",
       "      <td>NaN</td>\n",
       "    </tr>\n",
       "  </tbody>\n",
       "</table>\n",
       "</div>"
      ],
      "text/plain": [
       "              Anabilim Dalı                         Öğretim Üyesi  \\\n",
       "0           Üretim Yönetimi                  Prof.Dr. Halim Kazan   \n",
       "1                    Finans                 Prof.Dr. Erdinç Altay   \n",
       "2   Yönetim ve Organizasyon             Prof. Dr. Şebnem Arıkboğa   \n",
       "3                 Pazarlama                 Prof.Dr. Süphan Nasır   \n",
       "4                  Muhasebe         Prof.Dr. Selahattin Karabınar   \n",
       "5                    Finans                 Prof.Dr. Mehmet Saraç   \n",
       "6                  Muhasebe             Doç.Dr. Duygu Anıl Keskin   \n",
       "7   Yönetim ve Organizasyon              Doç.Dr. Mahmut Hızıroğlu   \n",
       "8                    Finans               Dr.Öğr.Ü. Arif Saldanlı   \n",
       "9                    Finans         Dr.Öğr.Ü. Burçay Yaşar Akçalı   \n",
       "10                   Finans          Dr.Öğr.Ü. Mehmet Sabri Topak   \n",
       "11                 Muhasebe            Dr.Öğr.Ü. Elçin Şişmanoğlu   \n",
       "12                 Muhasebe         Dr.Öğr.Ü. Zekeriya Emre Erkal   \n",
       "13                Pazarlama        Dr.Öğr.Ü. Hatice Anıl Değermen   \n",
       "14                Pazarlama               Öğr.Ü.Dr. Mehmet Baykal   \n",
       "15                Pazarlama  Öğr.Ü.Dr. Yaprak Burçak Boydak Öztaş   \n",
       "16  Yönetim ve Organizasyon                 Dr.Öğr.Ü. Bora Yıldız   \n",
       "17  Yönetim ve Organizasyon                 Dr.Öğr.Ü. Buket Akdöl   \n",
       "18  Yönetim ve Organizasyon                  Dr.Öğr.Ü. Ebru Doğan   \n",
       "19  Yönetim ve Organizasyon                  Dr.Öğr.Ü. Sema Yolaç   \n",
       "20                Pazarlama                 Arş.Gör. Yiğit Yurder   \n",
       "21                   Finans                 Arş.Gör. Sümeyra Uzun   \n",
       "22          Üretim Yönetimi         Arş. Gör. Serdar Semih Coşkun   \n",
       "23  Yönetim ve Organizasyon              Arş.Gör. Oğuzhan İrengün   \n",
       "24          Üretim Yönetimi         Arş.Gör. Ahmet Çağlar Saygılı   \n",
       "\n",
       "   Anabilim Dalı                  Öğretim Üyesi  \n",
       "0     Ekonometri            Prof.Dr. Nilgün Çil  \n",
       "1     Ekonometri          Prof. Dr. Burak Güriş  \n",
       "2     İstatistik       Prof.Dr. Ercan Sarıdoğan  \n",
       "3     İstatistik  Prof. Dr. Ali Karun Nemlioğlu  \n",
       "4       Yöneylem         Prof.Dr. Handan Yolsal  \n",
       "5       Yöneylem         Prof.Dr. Mustafa Tekin  \n",
       "6     Ekonometri            Doç.Dr. Burcu Kıran  \n",
       "7     İstatistik         Doç.Dr. Özlem Yorulmaz  \n",
       "8       Yöneylem          Doç.Dr. Aylin Aktütün  \n",
       "9       Yöneylem    Doç.Dr. Mehmet Hakan Satman  \n",
       "10    Ekonometri  Arş.Gör. Halil İbrahim Gündüz  \n",
       "11    Ekonometri        Arş. Gör. Hüseyin İçmez  \n",
       "12    İstatistik   Arş.Gör. Nimet Melis Esenyel  \n",
       "13      Yöneylem        Arş. Gör. Haydar Ekelik  \n",
       "14           NaN                            NaN  \n",
       "15           NaN                            NaN  \n",
       "16           NaN                            NaN  \n",
       "17           NaN                            NaN  \n",
       "18           NaN                            NaN  \n",
       "19           NaN                            NaN  \n",
       "20           NaN                            NaN  \n",
       "21           NaN                            NaN  \n",
       "22           NaN                            NaN  \n",
       "23           NaN                            NaN  \n",
       "24           NaN                            NaN  "
      ]
     },
     "execution_count": 134,
     "metadata": {},
     "output_type": "execute_result"
    }
   ],
   "source": [
    "pd.concat([işletme_bölüm,ekonometri_bölüm],axis=1) #Cevap 3"
   ]
  },
  {
   "cell_type": "code",
   "execution_count": 138,
   "metadata": {
    "collapsed": true
   },
   "outputs": [],
   "source": [
    "sbf_isl = {\n",
    "    \"Öğretim Üyesi\":[\"Prof.Dr. Ferhat Yanık\",\"Prof.Dr. Enis Sınıksaran\",\"Prof.Dr. Emrah Cengiz\",\"Prof.Dr. Murat Erdal\",\"Prof.Dr. Selim Yazıcı\",\"Prof.Dr. Zeynep Düren\"],\n",
    "    \"Anabilim Dalı\":[\"Muhasebe\",\"Üretim\",\"Pazarlama\",\"Üretim\",\"Pazarlama\",\"Yönetim ve Organizasyon\"]\n",
    "}"
   ]
  },
  {
   "cell_type": "code",
   "execution_count": 139,
   "metadata": {},
   "outputs": [
    {
     "data": {
      "text/html": [
       "<div>\n",
       "<style>\n",
       "    .dataframe thead tr:only-child th {\n",
       "        text-align: right;\n",
       "    }\n",
       "\n",
       "    .dataframe thead th {\n",
       "        text-align: left;\n",
       "    }\n",
       "\n",
       "    .dataframe tbody tr th {\n",
       "        vertical-align: top;\n",
       "    }\n",
       "</style>\n",
       "<table border=\"1\" class=\"dataframe\">\n",
       "  <thead>\n",
       "    <tr style=\"text-align: right;\">\n",
       "      <th></th>\n",
       "      <th>Anabilim Dalı</th>\n",
       "      <th>Öğretim Üyesi</th>\n",
       "    </tr>\n",
       "  </thead>\n",
       "  <tbody>\n",
       "    <tr>\n",
       "      <th>0</th>\n",
       "      <td>Muhasebe</td>\n",
       "      <td>Prof.Dr. Ferhat Yanık</td>\n",
       "    </tr>\n",
       "    <tr>\n",
       "      <th>1</th>\n",
       "      <td>Üretim</td>\n",
       "      <td>Prof.Dr. Enis Sınıksaran</td>\n",
       "    </tr>\n",
       "    <tr>\n",
       "      <th>2</th>\n",
       "      <td>Pazarlama</td>\n",
       "      <td>Prof.Dr. Emrah Cengiz</td>\n",
       "    </tr>\n",
       "    <tr>\n",
       "      <th>3</th>\n",
       "      <td>Üretim</td>\n",
       "      <td>Prof.Dr. Murat Erdal</td>\n",
       "    </tr>\n",
       "    <tr>\n",
       "      <th>4</th>\n",
       "      <td>Pazarlama</td>\n",
       "      <td>Prof.Dr. Selim Yazıcı</td>\n",
       "    </tr>\n",
       "    <tr>\n",
       "      <th>5</th>\n",
       "      <td>Yönetim ve Organizasyon</td>\n",
       "      <td>Prof.Dr. Zeynep Düren</td>\n",
       "    </tr>\n",
       "  </tbody>\n",
       "</table>\n",
       "</div>"
      ],
      "text/plain": [
       "             Anabilim Dalı             Öğretim Üyesi\n",
       "0                 Muhasebe     Prof.Dr. Ferhat Yanık\n",
       "1                   Üretim  Prof.Dr. Enis Sınıksaran\n",
       "2                Pazarlama     Prof.Dr. Emrah Cengiz\n",
       "3                   Üretim      Prof.Dr. Murat Erdal\n",
       "4                Pazarlama     Prof.Dr. Selim Yazıcı\n",
       "5  Yönetim ve Organizasyon     Prof.Dr. Zeynep Düren"
      ]
     },
     "execution_count": 139,
     "metadata": {},
     "output_type": "execute_result"
    }
   ],
   "source": [
    "pd.DataFrame(sbf_isl) #Cevap 4 "
   ]
  },
  {
   "cell_type": "code",
   "execution_count": null,
   "metadata": {
    "collapsed": true
   },
   "outputs": [],
   "source": []
  },
  {
   "cell_type": "code",
   "execution_count": null,
   "metadata": {
    "collapsed": true
   },
   "outputs": [],
   "source": []
  },
  {
   "cell_type": "code",
   "execution_count": null,
   "metadata": {
    "collapsed": true
   },
   "outputs": [],
   "source": []
  },
  {
   "cell_type": "code",
   "execution_count": null,
   "metadata": {
    "collapsed": true
   },
   "outputs": [],
   "source": []
  },
  {
   "cell_type": "code",
   "execution_count": null,
   "metadata": {
    "collapsed": true
   },
   "outputs": [],
   "source": []
  },
  {
   "cell_type": "markdown",
   "metadata": {},
   "source": [
    "### DataFrame Operasyonları - Pivot Table "
   ]
  },
  {
   "cell_type": "code",
   "execution_count": null,
   "metadata": {
    "collapsed": true
   },
   "outputs": [],
   "source": [
    "# 1. Dataframe tanımla\n",
    "# 2. İlk 3 satırı al\n",
    "# 3. İkinci sütunu yazdır\n",
    "# 4. İkinci sütundaki eşsiz değerleri yazdır \n",
    "# 5. İkinci sütunda kaç tane eşsiz değer olduğunu yazdır\n",
    "# 6. İkinci sütunda her değerden kaç tane geçtiğini yazdır ***\n",
    "# 7. İki sütunu ve bağlacıyla indeksle\n",
    "# 8. İkinci sütunu 3 ile çarp, dataframe güncelle\n",
    "# 9. Fonksiyonu lambda kullanarak yaz\n",
    "# 10. String içeren sütunu herbir stringing uzunluğunu yazdır\n",
    "# 11. DataFrame de kaç tane sütun olduğunu göster\n",
    "# 12. DataFrame de kaç tane satır olduğunu göster\n",
    "# 13. DataFrame bir sütunu büyükten küçüğe sırala\n",
    "# 14. DataFrame pivot table dönüştür ***"
   ]
  },
  {
   "cell_type": "code",
   "execution_count": 3,
   "metadata": {
    "collapsed": true
   },
   "outputs": [],
   "source": [
    "df = pd.DataFrame({\n",
    "    \"Column1\":[1,2,3,4,5,6],\n",
    "    \"Column2\":[100,100,200,300,300,100],\n",
    "    \"Column3\":[\"Mustafa\",\"Kamil\",\"Emre\",\"Ayşe\",\"Murat\",\"Zeynep\"]\n",
    "})"
   ]
  },
  {
   "cell_type": "code",
   "execution_count": 4,
   "metadata": {},
   "outputs": [
    {
     "data": {
      "text/html": [
       "<div>\n",
       "<style>\n",
       "    .dataframe thead tr:only-child th {\n",
       "        text-align: right;\n",
       "    }\n",
       "\n",
       "    .dataframe thead th {\n",
       "        text-align: left;\n",
       "    }\n",
       "\n",
       "    .dataframe tbody tr th {\n",
       "        vertical-align: top;\n",
       "    }\n",
       "</style>\n",
       "<table border=\"1\" class=\"dataframe\">\n",
       "  <thead>\n",
       "    <tr style=\"text-align: right;\">\n",
       "      <th></th>\n",
       "      <th>Column1</th>\n",
       "      <th>Column2</th>\n",
       "      <th>Column3</th>\n",
       "    </tr>\n",
       "  </thead>\n",
       "  <tbody>\n",
       "    <tr>\n",
       "      <th>0</th>\n",
       "      <td>1</td>\n",
       "      <td>100</td>\n",
       "      <td>Mustafa</td>\n",
       "    </tr>\n",
       "    <tr>\n",
       "      <th>1</th>\n",
       "      <td>2</td>\n",
       "      <td>100</td>\n",
       "      <td>Kamil</td>\n",
       "    </tr>\n",
       "    <tr>\n",
       "      <th>2</th>\n",
       "      <td>3</td>\n",
       "      <td>200</td>\n",
       "      <td>Emre</td>\n",
       "    </tr>\n",
       "    <tr>\n",
       "      <th>3</th>\n",
       "      <td>4</td>\n",
       "      <td>300</td>\n",
       "      <td>Ayşe</td>\n",
       "    </tr>\n",
       "    <tr>\n",
       "      <th>4</th>\n",
       "      <td>5</td>\n",
       "      <td>300</td>\n",
       "      <td>Murat</td>\n",
       "    </tr>\n",
       "    <tr>\n",
       "      <th>5</th>\n",
       "      <td>6</td>\n",
       "      <td>100</td>\n",
       "      <td>Zeynep</td>\n",
       "    </tr>\n",
       "  </tbody>\n",
       "</table>\n",
       "</div>"
      ],
      "text/plain": [
       "   Column1  Column2  Column3\n",
       "0        1      100  Mustafa\n",
       "1        2      100    Kamil\n",
       "2        3      200     Emre\n",
       "3        4      300     Ayşe\n",
       "4        5      300    Murat\n",
       "5        6      100   Zeynep"
      ]
     },
     "execution_count": 4,
     "metadata": {},
     "output_type": "execute_result"
    }
   ],
   "source": [
    "df #Cevap 1"
   ]
  },
  {
   "cell_type": "code",
   "execution_count": 5,
   "metadata": {},
   "outputs": [
    {
     "data": {
      "text/html": [
       "<div>\n",
       "<style>\n",
       "    .dataframe thead tr:only-child th {\n",
       "        text-align: right;\n",
       "    }\n",
       "\n",
       "    .dataframe thead th {\n",
       "        text-align: left;\n",
       "    }\n",
       "\n",
       "    .dataframe tbody tr th {\n",
       "        vertical-align: top;\n",
       "    }\n",
       "</style>\n",
       "<table border=\"1\" class=\"dataframe\">\n",
       "  <thead>\n",
       "    <tr style=\"text-align: right;\">\n",
       "      <th></th>\n",
       "      <th>Column1</th>\n",
       "      <th>Column2</th>\n",
       "      <th>Column3</th>\n",
       "    </tr>\n",
       "  </thead>\n",
       "  <tbody>\n",
       "    <tr>\n",
       "      <th>0</th>\n",
       "      <td>1</td>\n",
       "      <td>100</td>\n",
       "      <td>Mustafa</td>\n",
       "    </tr>\n",
       "    <tr>\n",
       "      <th>1</th>\n",
       "      <td>2</td>\n",
       "      <td>100</td>\n",
       "      <td>Kamil</td>\n",
       "    </tr>\n",
       "    <tr>\n",
       "      <th>2</th>\n",
       "      <td>3</td>\n",
       "      <td>200</td>\n",
       "      <td>Emre</td>\n",
       "    </tr>\n",
       "  </tbody>\n",
       "</table>\n",
       "</div>"
      ],
      "text/plain": [
       "   Column1  Column2  Column3\n",
       "0        1      100  Mustafa\n",
       "1        2      100    Kamil\n",
       "2        3      200     Emre"
      ]
     },
     "execution_count": 5,
     "metadata": {},
     "output_type": "execute_result"
    }
   ],
   "source": [
    "df.head(n=3) #Cevap 2"
   ]
  },
  {
   "cell_type": "code",
   "execution_count": 6,
   "metadata": {},
   "outputs": [
    {
     "data": {
      "text/plain": [
       "0    100\n",
       "1    100\n",
       "2    200\n",
       "3    300\n",
       "4    300\n",
       "5    100\n",
       "Name: Column2, dtype: int64"
      ]
     },
     "execution_count": 6,
     "metadata": {},
     "output_type": "execute_result"
    }
   ],
   "source": [
    "df[\"Column2\"] #Cevap 3"
   ]
  },
  {
   "cell_type": "code",
   "execution_count": 7,
   "metadata": {},
   "outputs": [
    {
     "data": {
      "text/plain": [
       "array([100, 200, 300], dtype=int64)"
      ]
     },
     "execution_count": 7,
     "metadata": {},
     "output_type": "execute_result"
    }
   ],
   "source": [
    "df[\"Column2\"].unique() #Cevap 4"
   ]
  },
  {
   "cell_type": "code",
   "execution_count": 10,
   "metadata": {},
   "outputs": [
    {
     "data": {
      "text/plain": [
       "3"
      ]
     },
     "execution_count": 10,
     "metadata": {},
     "output_type": "execute_result"
    }
   ],
   "source": [
    "df[\"Column2\"].nunique() #Cevap 5"
   ]
  },
  {
   "cell_type": "code",
   "execution_count": 12,
   "metadata": {},
   "outputs": [
    {
     "data": {
      "text/plain": [
       "100    3\n",
       "300    2\n",
       "200    1\n",
       "Name: Column2, dtype: int64"
      ]
     },
     "execution_count": 12,
     "metadata": {},
     "output_type": "execute_result"
    }
   ],
   "source": [
    "df[\"Column2\"].value_counts() #Cevap 6"
   ]
  },
  {
   "cell_type": "code",
   "execution_count": 14,
   "metadata": {},
   "outputs": [
    {
     "data": {
      "text/html": [
       "<div>\n",
       "<style>\n",
       "    .dataframe thead tr:only-child th {\n",
       "        text-align: right;\n",
       "    }\n",
       "\n",
       "    .dataframe thead th {\n",
       "        text-align: left;\n",
       "    }\n",
       "\n",
       "    .dataframe tbody tr th {\n",
       "        vertical-align: top;\n",
       "    }\n",
       "</style>\n",
       "<table border=\"1\" class=\"dataframe\">\n",
       "  <thead>\n",
       "    <tr style=\"text-align: right;\">\n",
       "      <th></th>\n",
       "      <th>Column1</th>\n",
       "      <th>Column2</th>\n",
       "      <th>Column3</th>\n",
       "    </tr>\n",
       "  </thead>\n",
       "  <tbody>\n",
       "    <tr>\n",
       "      <th>3</th>\n",
       "      <td>4</td>\n",
       "      <td>300</td>\n",
       "      <td>Ayşe</td>\n",
       "    </tr>\n",
       "    <tr>\n",
       "      <th>4</th>\n",
       "      <td>5</td>\n",
       "      <td>300</td>\n",
       "      <td>Murat</td>\n",
       "    </tr>\n",
       "  </tbody>\n",
       "</table>\n",
       "</div>"
      ],
      "text/plain": [
       "   Column1  Column2 Column3\n",
       "3        4      300    Ayşe\n",
       "4        5      300   Murat"
      ]
     },
     "execution_count": 14,
     "metadata": {},
     "output_type": "execute_result"
    }
   ],
   "source": [
    "df[(df[\"Column1\"] > 3) & (df[\"Column2\"] == 300)] #Cevap 7"
   ]
  },
  {
   "cell_type": "code",
   "execution_count": 16,
   "metadata": {
    "collapsed": true
   },
   "outputs": [],
   "source": [
    "df[\"Column2\"] = df[\"Column2\"]*3 #Cevap 8"
   ]
  },
  {
   "cell_type": "code",
   "execution_count": 17,
   "metadata": {},
   "outputs": [
    {
     "data": {
      "text/html": [
       "<div>\n",
       "<style>\n",
       "    .dataframe thead tr:only-child th {\n",
       "        text-align: right;\n",
       "    }\n",
       "\n",
       "    .dataframe thead th {\n",
       "        text-align: left;\n",
       "    }\n",
       "\n",
       "    .dataframe tbody tr th {\n",
       "        vertical-align: top;\n",
       "    }\n",
       "</style>\n",
       "<table border=\"1\" class=\"dataframe\">\n",
       "  <thead>\n",
       "    <tr style=\"text-align: right;\">\n",
       "      <th></th>\n",
       "      <th>Column1</th>\n",
       "      <th>Column2</th>\n",
       "      <th>Column3</th>\n",
       "    </tr>\n",
       "  </thead>\n",
       "  <tbody>\n",
       "    <tr>\n",
       "      <th>0</th>\n",
       "      <td>1</td>\n",
       "      <td>300</td>\n",
       "      <td>Mustafa</td>\n",
       "    </tr>\n",
       "    <tr>\n",
       "      <th>1</th>\n",
       "      <td>2</td>\n",
       "      <td>300</td>\n",
       "      <td>Kamil</td>\n",
       "    </tr>\n",
       "    <tr>\n",
       "      <th>2</th>\n",
       "      <td>3</td>\n",
       "      <td>600</td>\n",
       "      <td>Emre</td>\n",
       "    </tr>\n",
       "    <tr>\n",
       "      <th>3</th>\n",
       "      <td>4</td>\n",
       "      <td>900</td>\n",
       "      <td>Ayşe</td>\n",
       "    </tr>\n",
       "    <tr>\n",
       "      <th>4</th>\n",
       "      <td>5</td>\n",
       "      <td>900</td>\n",
       "      <td>Murat</td>\n",
       "    </tr>\n",
       "    <tr>\n",
       "      <th>5</th>\n",
       "      <td>6</td>\n",
       "      <td>300</td>\n",
       "      <td>Zeynep</td>\n",
       "    </tr>\n",
       "  </tbody>\n",
       "</table>\n",
       "</div>"
      ],
      "text/plain": [
       "   Column1  Column2  Column3\n",
       "0        1      300  Mustafa\n",
       "1        2      300    Kamil\n",
       "2        3      600     Emre\n",
       "3        4      900     Ayşe\n",
       "4        5      900    Murat\n",
       "5        6      300   Zeynep"
      ]
     },
     "execution_count": 17,
     "metadata": {},
     "output_type": "execute_result"
    }
   ],
   "source": [
    "df"
   ]
  },
  {
   "cell_type": "code",
   "execution_count": 18,
   "metadata": {
    "collapsed": true
   },
   "outputs": [],
   "source": [
    "def üçkat(x):\n",
    "    return 3*x"
   ]
  },
  {
   "cell_type": "code",
   "execution_count": 21,
   "metadata": {},
   "outputs": [
    {
     "data": {
      "text/plain": [
       "0     900\n",
       "1     900\n",
       "2    1800\n",
       "3    2700\n",
       "4    2700\n",
       "5     900\n",
       "Name: Column2, dtype: int64"
      ]
     },
     "execution_count": 21,
     "metadata": {},
     "output_type": "execute_result"
    }
   ],
   "source": [
    "df[\"Column2\"].apply(üçkat) #Cevap 8"
   ]
  },
  {
   "cell_type": "code",
   "execution_count": 22,
   "metadata": {},
   "outputs": [
    {
     "data": {
      "text/plain": [
       "0     600\n",
       "1     600\n",
       "2    1200\n",
       "3    1800\n",
       "4    1800\n",
       "5     600\n",
       "Name: Column2, dtype: int64"
      ]
     },
     "execution_count": 22,
     "metadata": {},
     "output_type": "execute_result"
    }
   ],
   "source": [
    "df[\"Column2\"].apply(lambda x:x*2) #Cevap 9"
   ]
  },
  {
   "cell_type": "code",
   "execution_count": 24,
   "metadata": {},
   "outputs": [
    {
     "data": {
      "text/plain": [
       "0    7\n",
       "1    5\n",
       "2    4\n",
       "3    4\n",
       "4    5\n",
       "5    6\n",
       "Name: Column3, dtype: int64"
      ]
     },
     "execution_count": 24,
     "metadata": {},
     "output_type": "execute_result"
    }
   ],
   "source": [
    "df[\"Column3\"].apply(len) #Cevap 10"
   ]
  },
  {
   "cell_type": "code",
   "execution_count": 27,
   "metadata": {},
   "outputs": [
    {
     "data": {
      "text/plain": [
       "Index(['Column1', 'Column2', 'Column3'], dtype='object')"
      ]
     },
     "execution_count": 27,
     "metadata": {},
     "output_type": "execute_result"
    }
   ],
   "source": [
    "df.columns "
   ]
  },
  {
   "cell_type": "code",
   "execution_count": 31,
   "metadata": {},
   "outputs": [
    {
     "data": {
      "text/plain": [
       "3"
      ]
     },
     "execution_count": 31,
     "metadata": {},
     "output_type": "execute_result"
    }
   ],
   "source": [
    "len(df.columns) #Cevap 11"
   ]
  },
  {
   "cell_type": "code",
   "execution_count": 32,
   "metadata": {},
   "outputs": [
    {
     "data": {
      "text/plain": [
       "RangeIndex(start=0, stop=6, step=1)"
      ]
     },
     "execution_count": 32,
     "metadata": {},
     "output_type": "execute_result"
    }
   ],
   "source": [
    "df.index"
   ]
  },
  {
   "cell_type": "code",
   "execution_count": 33,
   "metadata": {},
   "outputs": [
    {
     "data": {
      "text/plain": [
       "6"
      ]
     },
     "execution_count": 33,
     "metadata": {},
     "output_type": "execute_result"
    }
   ],
   "source": [
    "len(df.index) #Cevap 12"
   ]
  },
  {
   "cell_type": "code",
   "execution_count": 38,
   "metadata": {},
   "outputs": [
    {
     "data": {
      "text/plain": [
       "4    900\n",
       "3    900\n",
       "2    600\n",
       "5    300\n",
       "1    300\n",
       "0    300\n",
       "Name: Column2, dtype: int64"
      ]
     },
     "execution_count": 38,
     "metadata": {},
     "output_type": "execute_result"
    }
   ],
   "source": [
    "df[\"Column2\"].sort_values(ascending=False) "
   ]
  },
  {
   "cell_type": "code",
   "execution_count": 43,
   "metadata": {
    "collapsed": true
   },
   "outputs": [],
   "source": [
    "df.sort_values(\"Column2\",ascending=False,inplace=True) #Cevap 13"
   ]
  },
  {
   "cell_type": "code",
   "execution_count": 44,
   "metadata": {},
   "outputs": [
    {
     "data": {
      "text/html": [
       "<div>\n",
       "<style>\n",
       "    .dataframe thead tr:only-child th {\n",
       "        text-align: right;\n",
       "    }\n",
       "\n",
       "    .dataframe thead th {\n",
       "        text-align: left;\n",
       "    }\n",
       "\n",
       "    .dataframe tbody tr th {\n",
       "        vertical-align: top;\n",
       "    }\n",
       "</style>\n",
       "<table border=\"1\" class=\"dataframe\">\n",
       "  <thead>\n",
       "    <tr style=\"text-align: right;\">\n",
       "      <th></th>\n",
       "      <th>Column1</th>\n",
       "      <th>Column2</th>\n",
       "      <th>Column3</th>\n",
       "    </tr>\n",
       "  </thead>\n",
       "  <tbody>\n",
       "    <tr>\n",
       "      <th>3</th>\n",
       "      <td>4</td>\n",
       "      <td>900</td>\n",
       "      <td>Ayşe</td>\n",
       "    </tr>\n",
       "    <tr>\n",
       "      <th>4</th>\n",
       "      <td>5</td>\n",
       "      <td>900</td>\n",
       "      <td>Murat</td>\n",
       "    </tr>\n",
       "    <tr>\n",
       "      <th>2</th>\n",
       "      <td>3</td>\n",
       "      <td>600</td>\n",
       "      <td>Emre</td>\n",
       "    </tr>\n",
       "    <tr>\n",
       "      <th>0</th>\n",
       "      <td>1</td>\n",
       "      <td>300</td>\n",
       "      <td>Mustafa</td>\n",
       "    </tr>\n",
       "    <tr>\n",
       "      <th>1</th>\n",
       "      <td>2</td>\n",
       "      <td>300</td>\n",
       "      <td>Kamil</td>\n",
       "    </tr>\n",
       "    <tr>\n",
       "      <th>5</th>\n",
       "      <td>6</td>\n",
       "      <td>300</td>\n",
       "      <td>Zeynep</td>\n",
       "    </tr>\n",
       "  </tbody>\n",
       "</table>\n",
       "</div>"
      ],
      "text/plain": [
       "   Column1  Column2  Column3\n",
       "3        4      900     Ayşe\n",
       "4        5      900    Murat\n",
       "2        3      600     Emre\n",
       "0        1      300  Mustafa\n",
       "1        2      300    Kamil\n",
       "5        6      300   Zeynep"
      ]
     },
     "execution_count": 44,
     "metadata": {},
     "output_type": "execute_result"
    }
   ],
   "source": [
    "df"
   ]
  },
  {
   "cell_type": "code",
   "execution_count": 46,
   "metadata": {
    "collapsed": true
   },
   "outputs": [],
   "source": [
    "df2 = pd.DataFrame({\n",
    "    \"Ay\" : [\"Mart\",\"Nisan\",\"Mayıs\",\"Mart\",\"Nisan\",\"Mayıs\",\"Mart\",\"Nisan\",\"Mayıs\"],\n",
    "    \"Şehir\":[\"Ankara\",\"Ankara\",\"Ankara\",\"İstanbul\",\"İstanbul\",\"İstanbul\",\"İzmir\",\"İzmir\",\"İzmir\"],\n",
    "    \"Nem\":[10,25,50,21,67,80,30,70,75]\n",
    "})"
   ]
  },
  {
   "cell_type": "code",
   "execution_count": 47,
   "metadata": {},
   "outputs": [
    {
     "data": {
      "text/html": [
       "<div>\n",
       "<style>\n",
       "    .dataframe thead tr:only-child th {\n",
       "        text-align: right;\n",
       "    }\n",
       "\n",
       "    .dataframe thead th {\n",
       "        text-align: left;\n",
       "    }\n",
       "\n",
       "    .dataframe tbody tr th {\n",
       "        vertical-align: top;\n",
       "    }\n",
       "</style>\n",
       "<table border=\"1\" class=\"dataframe\">\n",
       "  <thead>\n",
       "    <tr style=\"text-align: right;\">\n",
       "      <th></th>\n",
       "      <th>Ay</th>\n",
       "      <th>Nem</th>\n",
       "      <th>Şehir</th>\n",
       "    </tr>\n",
       "  </thead>\n",
       "  <tbody>\n",
       "    <tr>\n",
       "      <th>0</th>\n",
       "      <td>Mart</td>\n",
       "      <td>10</td>\n",
       "      <td>Ankara</td>\n",
       "    </tr>\n",
       "    <tr>\n",
       "      <th>1</th>\n",
       "      <td>Nisan</td>\n",
       "      <td>25</td>\n",
       "      <td>Ankara</td>\n",
       "    </tr>\n",
       "    <tr>\n",
       "      <th>2</th>\n",
       "      <td>Mayıs</td>\n",
       "      <td>50</td>\n",
       "      <td>Ankara</td>\n",
       "    </tr>\n",
       "    <tr>\n",
       "      <th>3</th>\n",
       "      <td>Mart</td>\n",
       "      <td>21</td>\n",
       "      <td>İstanbul</td>\n",
       "    </tr>\n",
       "    <tr>\n",
       "      <th>4</th>\n",
       "      <td>Nisan</td>\n",
       "      <td>67</td>\n",
       "      <td>İstanbul</td>\n",
       "    </tr>\n",
       "    <tr>\n",
       "      <th>5</th>\n",
       "      <td>Mayıs</td>\n",
       "      <td>80</td>\n",
       "      <td>İstanbul</td>\n",
       "    </tr>\n",
       "    <tr>\n",
       "      <th>6</th>\n",
       "      <td>Mart</td>\n",
       "      <td>30</td>\n",
       "      <td>İzmir</td>\n",
       "    </tr>\n",
       "    <tr>\n",
       "      <th>7</th>\n",
       "      <td>Nisan</td>\n",
       "      <td>70</td>\n",
       "      <td>İzmir</td>\n",
       "    </tr>\n",
       "    <tr>\n",
       "      <th>8</th>\n",
       "      <td>Mayıs</td>\n",
       "      <td>75</td>\n",
       "      <td>İzmir</td>\n",
       "    </tr>\n",
       "  </tbody>\n",
       "</table>\n",
       "</div>"
      ],
      "text/plain": [
       "      Ay  Nem     Şehir\n",
       "0   Mart   10    Ankara\n",
       "1  Nisan   25    Ankara\n",
       "2  Mayıs   50    Ankara\n",
       "3   Mart   21  İstanbul\n",
       "4  Nisan   67  İstanbul\n",
       "5  Mayıs   80  İstanbul\n",
       "6   Mart   30     İzmir\n",
       "7  Nisan   70     İzmir\n",
       "8  Mayıs   75     İzmir"
      ]
     },
     "execution_count": 47,
     "metadata": {},
     "output_type": "execute_result"
    }
   ],
   "source": [
    "df2"
   ]
  },
  {
   "cell_type": "code",
   "execution_count": 53,
   "metadata": {},
   "outputs": [
    {
     "data": {
      "text/html": [
       "<div>\n",
       "<style>\n",
       "    .dataframe thead tr:only-child th {\n",
       "        text-align: right;\n",
       "    }\n",
       "\n",
       "    .dataframe thead th {\n",
       "        text-align: left;\n",
       "    }\n",
       "\n",
       "    .dataframe tbody tr th {\n",
       "        vertical-align: top;\n",
       "    }\n",
       "</style>\n",
       "<table border=\"1\" class=\"dataframe\">\n",
       "  <thead>\n",
       "    <tr style=\"text-align: right;\">\n",
       "      <th>Şehir</th>\n",
       "      <th>Ankara</th>\n",
       "      <th>İstanbul</th>\n",
       "      <th>İzmir</th>\n",
       "    </tr>\n",
       "    <tr>\n",
       "      <th>Ay</th>\n",
       "      <th></th>\n",
       "      <th></th>\n",
       "      <th></th>\n",
       "    </tr>\n",
       "  </thead>\n",
       "  <tbody>\n",
       "    <tr>\n",
       "      <th>Mart</th>\n",
       "      <td>10</td>\n",
       "      <td>21</td>\n",
       "      <td>30</td>\n",
       "    </tr>\n",
       "    <tr>\n",
       "      <th>Mayıs</th>\n",
       "      <td>50</td>\n",
       "      <td>80</td>\n",
       "      <td>75</td>\n",
       "    </tr>\n",
       "    <tr>\n",
       "      <th>Nisan</th>\n",
       "      <td>25</td>\n",
       "      <td>67</td>\n",
       "      <td>70</td>\n",
       "    </tr>\n",
       "  </tbody>\n",
       "</table>\n",
       "</div>"
      ],
      "text/plain": [
       "Şehir  Ankara  İstanbul  İzmir\n",
       "Ay                            \n",
       "Mart       10        21     30\n",
       "Mayıs      50        80     75\n",
       "Nisan      25        67     70"
      ]
     },
     "execution_count": 53,
     "metadata": {},
     "output_type": "execute_result"
    }
   ],
   "source": [
    "df2.pivot_table(values=\"Nem\",index=\"Ay\",columns=\"Şehir\") #Cevap 14"
   ]
  },
  {
   "cell_type": "markdown",
   "metadata": {},
   "source": [
    "## Temel Fonksiyonlar ve Metotlar"
   ]
  },
  {
   "cell_type": "markdown",
   "metadata": {},
   "source": [
    "pd.Series()\n",
    "pd.DataFrame()\n",
    "pd.MultiIndex()\n",
    "pd.concat([df1,df2])\n",
    "pd.merge(df1,df2)\n",
    "pd.merge(df1,df2)\n",
    "\n",
    "df1.join(df2)\n",
    "zip(i1,i2)\n",
    "df.xs()\n",
    "df.loc[\"A\"]\n",
    "df.drop()\n",
    "df.set_index()\n",
    "df.dropna()\n",
    "df.fillna()\n",
    "df.size\n",
    "df.isnull\n",
    "df.groupby()\n",
    "df.groupby().count()\n",
    "df.head()\n",
    "df[].unique()\n",
    "df[].nunique\n",
    "df[].value_counts()\n",
    "df[].apply(function)\n",
    "len(df.columns)\n",
    "len(df.index)\n",
    "df.sort_values()\n",
    "df.pivot_table()\n",
    "\n",
    "\n",
    "\n",
    "\n"
   ]
  }
 ],
 "metadata": {
  "kernelspec": {
   "display_name": "Python 3",
   "language": "python",
   "name": "python3"
  },
  "language_info": {
   "codemirror_mode": {
    "name": "ipython",
    "version": 3
   },
   "file_extension": ".py",
   "mimetype": "text/x-python",
   "name": "python",
   "nbconvert_exporter": "python",
   "pygments_lexer": "ipython3",
   "version": "3.6.6"
  }
 },
 "nbformat": 4,
 "nbformat_minor": 2
}
