{
 "cells": [
  {
   "cell_type": "code",
   "execution_count": 2,
   "metadata": {},
   "outputs": [
    {
     "name": "stdout",
     "output_type": "stream",
     "text": [
      "Başlangıç noktası: 5\n",
      "2.0945514815423265\n"
     ]
    }
   ],
   "source": [
    "'''\n",
    "==================================================================\n",
    "Tek değişkenli fonksiyonlarda Newton-Raphson Algoritması\n",
    "==================================================================\n",
    "\n",
    "Belirli bir başlangıç noktasında göre en iyi çözüme yakınsar.\n",
    "'''\n",
    "\n",
    "\n",
    "#Fonksiyon denklemi ve türevi tanımlanır\n",
    "def f(x) : return pow(x,3) - 2*x - 5 \n",
    "def dfdx(x) : return 3*pow(x,2) - 2\n",
    "def nr(x): return x - f(x)/dfdx(x)\n",
    "\n",
    "x = int(input(\"Başlangıç noktası: \"))\n",
    "y = nr(x)\n",
    "\n",
    "#Algoritma 1000 iterastona kadar çalışır. Hassasisyet düzeyi 0.001'dir.\n",
    "while True:\n",
    "    for i in range(1000):\n",
    "        x,y = y,nr(y)\n",
    "    if (y - x < 0.001):\n",
    "        break\n",
    "print(y)"
   ]
  },
  {
   "cell_type": "code",
   "execution_count": null,
   "metadata": {
    "collapsed": true
   },
   "outputs": [],
   "source": []
  }
 ],
 "metadata": {
  "kernelspec": {
   "display_name": "Python 3",
   "language": "python",
   "name": "python3"
  },
  "language_info": {
   "codemirror_mode": {
    "name": "ipython",
    "version": 3
   },
   "file_extension": ".py",
   "mimetype": "text/x-python",
   "name": "python",
   "nbconvert_exporter": "python",
   "pygments_lexer": "ipython3",
   "version": "3.6.6"
  }
 },
 "nbformat": 4,
 "nbformat_minor": 2
}
